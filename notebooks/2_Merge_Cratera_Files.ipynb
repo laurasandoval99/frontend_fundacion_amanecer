{
 "cells": [
  {
   "cell_type": "code",
   "execution_count": null,
   "metadata": {
    "cell_id": "85cc186c-f7b4-494d-bd26-4a87c4771298",
    "deepnote_cell_height": 117,
    "deepnote_cell_type": "code",
    "deepnote_to_be_reexecuted": false,
    "execution_millis": 156,
    "execution_start": 1653320528518,
    "source_hash": "68a3c5fc"
   },
   "outputs": [],
   "source": [
    "import pandas as pd\n",
    "import os \n",
    "import openpyxl"
   ]
  },
  {
   "cell_type": "code",
   "execution_count": null,
   "metadata": {
    "cell_id": "00001-7a90e092-78e9-4d90-9121-3a5bcff36257",
    "deepnote_cell_height": 757.375,
    "deepnote_cell_type": "code",
    "deepnote_to_be_reexecuted": false,
    "execution_millis": 6,
    "execution_start": 1653320536235,
    "source_hash": "f6f2ee15"
   },
   "outputs": [
    {
     "ename": "FileNotFoundError",
     "evalue": "[Errno 2] No such file or directory: 'C://Users//MIPC//Desktop//DS4A//FUNDACIÓN AMANECER//GERMAN GONZALEZ ACEVEDO - FUNDACION AMANECER_RETOS_MINTIC_2022//2017-2021'",
     "output_type": "error",
     "traceback": [
      "\u001b[0;31m---------------------------------------------------------------------------\u001b[0m",
      "\u001b[0;31mFileNotFoundError\u001b[0m                         Traceback (most recent call last)",
      "\u001b[0;32m<ipython-input-4-80cea17d9a60>\u001b[0m in \u001b[0;36m<module>\u001b[0;34m\u001b[0m\n\u001b[1;32m      1\u001b[0m \u001b[0mpath\u001b[0m\u001b[0;34m=\u001b[0m\u001b[0;34m'C://Users//MIPC//Desktop//DS4A//FUNDACIÓN AMANECER//GERMAN GONZALEZ ACEVEDO - FUNDACION AMANECER_RETOS_MINTIC_2022//2017-2021'\u001b[0m\u001b[0;34m\u001b[0m\u001b[0;34m\u001b[0m\u001b[0m\n\u001b[1;32m      2\u001b[0m \u001b[0mpathuni\u001b[0m\u001b[0;34m=\u001b[0m\u001b[0;34m'.'\u001b[0m\u001b[0;34m\u001b[0m\u001b[0;34m\u001b[0m\u001b[0m\n\u001b[0;32m----> 3\u001b[0;31m \u001b[0mos\u001b[0m\u001b[0;34m.\u001b[0m\u001b[0mchdir\u001b[0m\u001b[0;34m(\u001b[0m\u001b[0mpath\u001b[0m\u001b[0;34m)\u001b[0m\u001b[0;34m\u001b[0m\u001b[0;34m\u001b[0m\u001b[0m\n\u001b[0m\u001b[1;32m      4\u001b[0m monthdict = {\n\u001b[1;32m      5\u001b[0m   \u001b[0;34m\"ENERO\"\u001b[0m\u001b[0;34m:\u001b[0m \u001b[0;34m\"01\"\u001b[0m\u001b[0;34m,\u001b[0m\u001b[0;34m\u001b[0m\u001b[0;34m\u001b[0m\u001b[0m\n",
      "\u001b[0;31mFileNotFoundError\u001b[0m: [Errno 2] No such file or directory: 'C://Users//MIPC//Desktop//DS4A//FUNDACIÓN AMANECER//GERMAN GONZALEZ ACEVEDO - FUNDACION AMANECER_RETOS_MINTIC_2022//2017-2021'"
     ]
    }
   ],
   "source": [
    "path='C://Users//MIPC//Desktop//DS4A//FUNDACIÓN AMANECER//GERMAN GONZALEZ ACEVEDO - FUNDACION AMANECER_RETOS_MINTIC_2022//2017-2021'\n",
    "pathuni='.'\n",
    "os.chdir(path)\n",
    "monthdict = {\n",
    "  \"ENERO\": \"01\",\n",
    "  \"FEBRERO\": \"02\",\n",
    "  \"MARZO\": \"03\",\n",
    "    \"ABRIL\": \"04\",\n",
    "    \"MAYO\": \"05\",\n",
    "    \"JUNIO\": \"06\",\n",
    "    \"JULIO\": \"07\",\n",
    "    \"AGOSTO\": \"08\",\n",
    "    \"SEPTIEMBRE\": \"09\",\n",
    "    \"OCTUBRE\": \"10\",\n",
    "    \"NOVIEMBRE\": \"11\",\n",
    "    \"DICIEMBRE\": \"12\"\n",
    "}\n",
    "\n",
    "data=pd.read_csv(pathuni+'/'+'FUNDACIÓN AMANECER_RETO_CIERRE CARTERA ABRIL 2017.csv',index_col=0, sep=';', encoding='latin-1')\n",
    "data.columns= data.columns.str.upper()\n",
    "data.columns= data.columns.str.strip()\n",
    "for file in os.listdir():\n",
    "    if(file=='FUNDACIÓN AMANECER_RETO_CIERRE CARTERA ABRIL 2017.csv'): \n",
    "        name= file.split()\n",
    "        data['Fecha']= monthdict[str(name[3])]+ \"/\" + str(name[4][0:4])\n",
    "        pass\n",
    "    name= file.split()\n",
    "    data_aux=pd.read_csv(pathuni+'/'+file,index_col=0, sep=';', encoding='latin-1')\n",
    "    data_aux.columns= data_aux.columns.str.upper()\n",
    "    data_aux.columns= data_aux.columns.str.strip()\n",
    "    data_aux['Fecha']= monthdict[str(name[3])]+ \"/\" + str(name[4][0:4])\n",
    "    data=pd.concat([data,data_aux], axis=0)\n",
    "    \n"
   ]
  },
  {
   "cell_type": "markdown",
   "metadata": {
    "cell_id": "00005-b484effd-08a8-4bf6-9cad-f6acbfa499ee",
    "deepnote_cell_height": 52.390625,
    "deepnote_cell_type": "markdown"
   },
   "source": [
    "LIMPIEZA DATOS "
   ]
  },
  {
   "cell_type": "code",
   "execution_count": null,
   "metadata": {
    "cell_id": "00006-7bff9f9a-fe7f-4d67-b17d-f65c695df103",
    "deepnote_cell_height": 138,
    "deepnote_cell_type": "code",
    "owner_user_id": "27fcc58a-4a15-4d50-9247-010f0aa299da"
   },
   "outputs": [],
   "source": [
    "data = data.drop(['FEC NACIMIENTO', 'EDAD', 'MUJER CABEZA',\n",
    "       'FACTORRH', 'PROFESION', 'GENERO', 'ESTRATO', 'NIVEL ESTUDIO','RANGO PAGO', 'CEDULA', 'NOMBRE', 'EJECUTIVO ACTUAL',\n",
    "       'EST CIVIL', 'FECHA UTL ACTUALIZACION', 'TEL.FIJO',\n",
    "       'CELULAR', 'DIRECCION', 'CORREO','REGION.1', 'MUNICIPIO',\n",
    "       'BUS REGION', 'REGION - REAL'], 1)"
   ]
  },
  {
   "cell_type": "code",
   "execution_count": null,
   "metadata": {
    "cell_id": "00007-4b544418-38c8-4bfe-887d-47df4f5eb43f",
    "deepnote_cell_height": 120,
    "deepnote_cell_type": "code"
   },
   "outputs": [],
   "source": [
    "data[\"COD TIPO CLIENTE\"].fillna(0, inplace= True) \n",
    "data[\"COD TIPOCLIENTE\"].fillna(0, inplace= True)\n",
    "data[\"COD TIPO CLIENTE\"]=data[\"COD TIPO CLIENTE\"] + data[\"COD TIPOCLIENTE\"]\n"
   ]
  },
  {
   "cell_type": "code",
   "execution_count": null,
   "metadata": {
    "cell_id": "00008-37560e15-33a6-4b0e-b787-8dab8321ca4f",
    "deepnote_cell_height": 66,
    "deepnote_cell_type": "code"
   },
   "outputs": [],
   "source": [
    "data= data.drop([\"COD TIPOCLIENTE\"],1)"
   ]
  },
  {
   "cell_type": "code",
   "execution_count": null,
   "metadata": {
    "cell_id": "00009-3f589eb1-1780-4800-a8ce-a73168b83c3d",
    "deepnote_cell_height": 66,
    "deepnote_cell_type": "code"
   },
   "outputs": [],
   "source": [
    "data= data[data['COD TIPO CLIENTE'] != 0]"
   ]
  },
  {
   "cell_type": "code",
   "execution_count": null,
   "metadata": {
    "cell_id": "00010-4ce13ada-2b4f-4daa-b0a3-d4228baaa76d",
    "deepnote_cell_height": 701,
    "deepnote_cell_type": "code"
   },
   "outputs": [
    {
     "name": "stdout",
     "output_type": "stream",
     "text": [
      "<class 'pandas.core.frame.DataFrame'>\n",
      "Int64Index: 806075 entries, 0 to 806091\n",
      "Data columns (total 46 columns):\n",
      " #   Column                               Non-Null Count   Dtype  \n",
      "---  ------                               --------------   -----  \n",
      " 0   Tipo                                 806075 non-null  float64\n",
      " 1   NRO SOLICITUD                        806074 non-null  float64\n",
      " 2   OBLIGACION                           806075 non-null  float64\n",
      " 3   PAGARE                               806074 non-null  object \n",
      " 4   HOMOLOGACION DOCUMENTO DE IDENTIDAD  796229 non-null  object \n",
      " 5   COD TIPO CLIENTE                     806075 non-null  float64\n",
      " 6   NOM TIPOCLIENTE                      806075 non-null  object \n",
      " 7   SUCURSAL                             77338 non-null   object \n",
      " 8   REGION                               806075 non-null  object \n",
      " 9   MUNICIPIO CLIENTE                    806075 non-null  object \n",
      " 10  UBICACIO CLIENTE                     806073 non-null  object \n",
      " 11  MONTO                                806075 non-null  object \n",
      " 12  FEC SOLICITUD                        806074 non-null  object \n",
      " 13  FEC APROBA                           806074 non-null  object \n",
      " 14  FEC DESEMBOLSO                       806075 non-null  object \n",
      " 15  VALOR CUOTA                          806074 non-null  object \n",
      " 16  CUOTAS PACTADAS                      806074 non-null  float64\n",
      " 17  CUOTAS PENDIENTES                    806073 non-null  float64\n",
      " 18  TASA N.A.M.V                         806074 non-null  float64\n",
      " 19  TASA PERIODICA                       806074 non-null  float64\n",
      " 20  PERIODICIDAD                         806075 non-null  object \n",
      " 21  CALIFICACION CIERRE                  806075 non-null  object \n",
      " 22  COD LINEA                            806074 non-null  object \n",
      " 23  LINEA                                806075 non-null  object \n",
      " 24  COD MODALIDAD                        806074 non-null  float64\n",
      " 25  MODALIDAD                            806074 non-null  object \n",
      " 26  SALDO OBLIGACION                     806075 non-null  object \n",
      " 27  VENCIDA                              806075 non-null  object \n",
      " 28  DIAS VENCIDO                         806075 non-null  float64\n",
      " 29  CAPITAL VEN                          806075 non-null  object \n",
      " 30  INTERES VEN                          806075 non-null  object \n",
      " 31  MORA                                 806075 non-null  object \n",
      " 32  SEGURO VIDA                          806075 non-null  object \n",
      " 33  COMISION                             806075 non-null  object \n",
      " 34  OTROS                                806075 non-null  object \n",
      " 35  FEC ULT.PAGO                         768329 non-null  object \n",
      " 36  FEC PROXIMO PAGO                     806074 non-null  object \n",
      " 37  VENCIMIENTO FINAL                    806074 non-null  object \n",
      " 38  GARNTIA REAL                         806074 non-null  object \n",
      " 39  PORCENTAJE PAGO                      806073 non-null  object \n",
      " 40  TIPO CREDITO                         806074 non-null  object \n",
      " 41  SUCURS                               775091 non-null  object \n",
      " 42  Fecha                                806075 non-null  object \n",
      " 43  SUCURSAL REAL                        744260 non-null  object \n",
      " 44  SUCURSALES                           101199 non-null  object \n",
      " 45  SUCURSAL.1                           30984 non-null   object \n",
      "dtypes: float64(10), object(36)\n",
      "memory usage: 289.0+ MB\n"
     ]
    }
   ],
   "source": [
    "data.info()"
   ]
  },
  {
   "cell_type": "code",
   "execution_count": null,
   "metadata": {
    "cell_id": "00011-4927bf4b-e628-4f6e-90b4-6487e0e494b7",
    "deepnote_cell_height": 66,
    "deepnote_cell_type": "code"
   },
   "outputs": [],
   "source": [
    "data.to_csv('../cierre_cartera_2017_2021.csv')"
   ]
  },
  {
   "cell_type": "markdown",
   "metadata": {
    "created_in_deepnote_cell": true,
    "deepnote_cell_type": "markdown",
    "tags": []
   },
   "source": [
    "<a style='text-decoration:none;line-height:16px;display:flex;color:#5B5B62;padding:10px;justify-content:end;' href='https://deepnote.com?utm_source=created-in-deepnote-cell&projectId=f43d54c6-e174-413e-ae7f-6c729fd7eacf' target=\"_blank\">\n",
    "<img alt='Created in deepnote.com' style='display:inline;max-height:16px;margin:0px;margin-right:7.5px;' src='data:image/svg+xml;base64,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' > </img>\n",
    "Created in <span style='font-weight:600;margin-left:4px;'>Deepnote</span></a>"
   ]
  }
 ],
 "metadata": {
  "deepnote": {},
  "deepnote_execution_queue": [],
  "deepnote_notebook_id": "d6039183-fa10-48a7-b217-32168b18ef51",
  "kernelspec": {
   "display_name": "Python 3 (ipykernel)",
   "language": "python",
   "name": "python3"
  },
  "language_info": {
   "codemirror_mode": {
    "name": "ipython",
    "version": 3
   },
   "file_extension": ".py",
   "mimetype": "text/x-python",
   "name": "python",
   "nbconvert_exporter": "python",
   "pygments_lexer": "ipython3",
   "version": "3.9.12"
  }
 },
 "nbformat": 4,
 "nbformat_minor": 5
}
