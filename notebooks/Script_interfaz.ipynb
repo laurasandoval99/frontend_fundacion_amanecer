{
 "cells": [
  {
   "cell_type": "code",
   "execution_count": 1,
   "metadata": {},
   "outputs": [],
   "source": [
    "import pandas as pd\n",
    "import matplotlib.pyplot as plt\n",
    "import seaborn as sns\n",
    "#import numpy as np\n",
    "#from matplotlib import rcParams\n",
    "#from scipy import stats"
   ]
  },
  {
   "cell_type": "markdown",
   "metadata": {},
   "source": [
    "# Ingreso de datos"
   ]
  },
  {
   "cell_type": "code",
   "execution_count": 2,
   "metadata": {},
   "outputs": [
    {
     "name": "stdout",
     "output_type": "stream",
     "text": [
      "<class 'pandas.core.frame.DataFrame'>\n",
      "Int64Index: 790447 entries, 0 to 790446\n",
      "Data columns (total 48 columns):\n",
      " #   Column                 Non-Null Count   Dtype         \n",
      "---  ------                 --------------   -----         \n",
      " 0   NRO_SOLICITUD          790447 non-null  int64         \n",
      " 1   OBLIGACION             790447 non-null  int64         \n",
      " 2   PAGARE                 790447 non-null  object        \n",
      " 3   NOM_TIPOCLIENTE        790447 non-null  object        \n",
      " 4   REGION                 790447 non-null  object        \n",
      " 5   MUNICIPIO_CLIENTE      790447 non-null  object        \n",
      " 6   UBICACIO_CLIENTE       790447 non-null  object        \n",
      " 7   MONTO                  790447 non-null  int64         \n",
      " 8   FEC_SOLICITUD          790447 non-null  object        \n",
      " 9   FEC_APROBA             790447 non-null  object        \n",
      " 10  FEC_DESEMBOLSO         790447 non-null  object        \n",
      " 11  VALOR_CUOTA            790447 non-null  float64       \n",
      " 12  CUOTAS_PACTADAS        790447 non-null  float64       \n",
      " 13  CUOTAS_PENDIENTES      790447 non-null  float64       \n",
      " 14  PERIODICIDAD           790447 non-null  object        \n",
      " 15  CALIFICACION_CIERRE    790447 non-null  object        \n",
      " 16  LINEA                  790447 non-null  object        \n",
      " 17  COD_MODALIDAD          790447 non-null  int64         \n",
      " 18  SALDO_OBLIGACION       790447 non-null  int64         \n",
      " 19  VENCIDA                790447 non-null  int64         \n",
      " 20  DIAS_VENCIDO           790447 non-null  int64         \n",
      " 21  CAPITAL_VEN            790447 non-null  int64         \n",
      " 22  INTERES_VEN            790447 non-null  int64         \n",
      " 23  MORA                   790447 non-null  int64         \n",
      " 24  COMISION               790447 non-null  int64         \n",
      " 25  FEC_ULT.PAGO           754044 non-null  object        \n",
      " 26  FEC_PROXIMO_PAGO       790447 non-null  object        \n",
      " 27  VENCIMIENTO_FINAL      790447 non-null  object        \n",
      " 28  PORCENTAJE_PAGO        714560 non-null  float64       \n",
      " 29  TIPO_CREDITO           790447 non-null  object        \n",
      " 30  FECHA                  790447 non-null  datetime64[ns]\n",
      " 31  TASA_NOM_ANUAL         790447 non-null  float64       \n",
      " 32  TASA_PERIODICA         790447 non-null  float64       \n",
      " 33  ID                     790447 non-null  object        \n",
      " 34  PP                     790447 non-null  int64         \n",
      " 35  CP                     790447 non-null  int64         \n",
      " 36  GENERO                 790235 non-null  object        \n",
      " 37  EDAD                   790229 non-null  float64       \n",
      " 38  NIVEL_DE_ESTUDIOS      790118 non-null  object        \n",
      " 39  MORA_STATUS            790447 non-null  float64       \n",
      " 40  SUCURSAL               607495 non-null  object        \n",
      " 41  ESTRATO                606963 non-null  float64       \n",
      " 42  DESTINACION            607495 non-null  object        \n",
      " 43  TIPO_VIVIENDA          607495 non-null  object        \n",
      " 44  CODEUDOR_REF           607495 non-null  float64       \n",
      " 45  DEUDOR                 790447 non-null  int64         \n",
      " 46  ACUMULADO              790447 non-null  int64         \n",
      " 47  NIVEL_DE_ESTUDIOS_NEW  790447 non-null  object        \n",
      "dtypes: datetime64[ns](1), float64(10), int64(15), object(22)\n",
      "memory usage: 295.5+ MB\n"
     ]
    }
   ],
   "source": [
    "df = pd.read_csv('J:/Universidad/DS4A 6/frontend_fundacion_amanecer/data/Data_Final.csv', sep=\",\",encoding=\"utf-8\",low_memory=False,index_col=0)\n",
    "\n",
    "# Dar formato de fecha\n",
    "df['FECHA'] = pd.to_datetime(df['FECHA'], format = \"%Y-%m\" )\n",
    "df.info()"
   ]
  },
  {
   "cell_type": "code",
   "execution_count": 3,
   "metadata": {},
   "outputs": [],
   "source": [
    "# Dataframe ultimo mes registrado\n",
    "df_ultimo  =  df[df['FECHA'] == df['FECHA'].max()]\n",
    "\n",
    "# Indicador 1: Total capital vencido en el ultimos mes registrado\n",
    "cap_ven = df_ultimo['CAPITAL_VEN'].sum()\n",
    "\n",
    "# Indicador 2: porcentaje de clientes que estan en mora en el ultimos mes registrado\n",
    "por_mora = df_ultimo['DEUDOR'].sum()/df_ultimo['DEUDOR'].count()\n",
    "\n",
    "# Indicador 3: Total por pagar en el ultimo mes registrado\n",
    "total_saldo = df_ultimo['SALDO_OBLIGACION'].sum()\n"
   ]
  },
  {
   "cell_type": "code",
   "execution_count": 4,
   "metadata": {},
   "outputs": [
    {
     "data": {
      "text/html": [
       "<div>\n",
       "<style scoped>\n",
       "    .dataframe tbody tr th:only-of-type {\n",
       "        vertical-align: middle;\n",
       "    }\n",
       "\n",
       "    .dataframe tbody tr th {\n",
       "        vertical-align: top;\n",
       "    }\n",
       "\n",
       "    .dataframe thead th {\n",
       "        text-align: right;\n",
       "    }\n",
       "</style>\n",
       "<table border=\"1\" class=\"dataframe\">\n",
       "  <thead>\n",
       "    <tr style=\"text-align: right;\">\n",
       "      <th></th>\n",
       "      <th>FECHA</th>\n",
       "      <th>GENERO</th>\n",
       "      <th>CAPITAL_VENCIDO</th>\n",
       "      <th>DEUDOR_SUMA</th>\n",
       "      <th>DEUDOR_COUNT</th>\n",
       "      <th>SALDO_TOTAL</th>\n",
       "      <th>CLIENTES_MORA</th>\n",
       "    </tr>\n",
       "  </thead>\n",
       "  <tbody>\n",
       "    <tr>\n",
       "      <th>0</th>\n",
       "      <td>2017-01-01</td>\n",
       "      <td>Femenino</td>\n",
       "      <td>953838900</td>\n",
       "      <td>2679</td>\n",
       "      <td>8638</td>\n",
       "      <td>24897848474</td>\n",
       "      <td>0.310141</td>\n",
       "    </tr>\n",
       "    <tr>\n",
       "      <th>1</th>\n",
       "      <td>2017-01-01</td>\n",
       "      <td>Masculino</td>\n",
       "      <td>853802236</td>\n",
       "      <td>2118</td>\n",
       "      <td>6884</td>\n",
       "      <td>24539220198</td>\n",
       "      <td>0.307670</td>\n",
       "    </tr>\n",
       "    <tr>\n",
       "      <th>2</th>\n",
       "      <td>2017-02-01</td>\n",
       "      <td>Femenino</td>\n",
       "      <td>1014769190</td>\n",
       "      <td>2616</td>\n",
       "      <td>8583</td>\n",
       "      <td>24628526797</td>\n",
       "      <td>0.304789</td>\n",
       "    </tr>\n",
       "    <tr>\n",
       "      <th>3</th>\n",
       "      <td>2017-02-01</td>\n",
       "      <td>Masculino</td>\n",
       "      <td>947108157</td>\n",
       "      <td>2159</td>\n",
       "      <td>6878</td>\n",
       "      <td>24244493806</td>\n",
       "      <td>0.313899</td>\n",
       "    </tr>\n",
       "    <tr>\n",
       "      <th>4</th>\n",
       "      <td>2017-03-01</td>\n",
       "      <td>Femenino</td>\n",
       "      <td>914750690</td>\n",
       "      <td>2502</td>\n",
       "      <td>8639</td>\n",
       "      <td>24372801335</td>\n",
       "      <td>0.289617</td>\n",
       "    </tr>\n",
       "  </tbody>\n",
       "</table>\n",
       "</div>"
      ],
      "text/plain": [
       "       FECHA      GENERO  CAPITAL_VENCIDO  DEUDOR_SUMA  DEUDOR_COUNT  \\\n",
       "0 2017-01-01   Femenino         953838900         2679          8638   \n",
       "1 2017-01-01  Masculino         853802236         2118          6884   \n",
       "2 2017-02-01   Femenino        1014769190         2616          8583   \n",
       "3 2017-02-01  Masculino         947108157         2159          6878   \n",
       "4 2017-03-01   Femenino         914750690         2502          8639   \n",
       "\n",
       "   SALDO_TOTAL  CLIENTES_MORA  \n",
       "0  24897848474       0.310141  \n",
       "1  24539220198       0.307670  \n",
       "2  24628526797       0.304789  \n",
       "3  24244493806       0.313899  \n",
       "4  24372801335       0.289617  "
      ]
     },
     "execution_count": 4,
     "metadata": {},
     "output_type": "execute_result"
    }
   ],
   "source": [
    "# Agrupar por fecha y variables de interes\n",
    "df_tiempo = df.groupby(['FECHA','GENERO'], as_index=False).agg(CAPITAL_VENCIDO= ('CAPITAL_VEN','sum'),\n",
    "                                     DEUDOR_SUMA = ('DEUDOR','sum'),\n",
    "                                     DEUDOR_COUNT= ('DEUDOR','count'),\n",
    "                                     SALDO_TOTAL= ('SALDO_OBLIGACION','sum'))\n",
    "\n",
    "#Poner clientes en mora en porcentajes\n",
    "df_tiempo['CLIENTES_MORA'] = df_tiempo['DEUDOR_SUMA']/df_tiempo['DEUDOR_COUNT']\n",
    "df_tiempo.head()"
   ]
  },
  {
   "cell_type": "code",
   "execution_count": 5,
   "metadata": {},
   "outputs": [
    {
     "data": {
      "text/plain": [
       "<AxesSubplot:xlabel='FECHA', ylabel='CAPITAL_VENCIDO'>"
      ]
     },
     "execution_count": 5,
     "metadata": {},
     "output_type": "execute_result"
    },
    {
     "data": {
      "image/png": "[encoded data removed]",
      "text/plain": [
       "<Figure size 1080x216 with 1 Axes>"
      ]
     },
     "metadata": {
      "needs_background": "light"
     },
     "output_type": "display_data"
    }
   ],
   "source": [
    "#Plot capital vencido\n",
    "plt.figure(figsize=(15, 3))\n",
    "sns.lineplot(x='FECHA',y='CAPITAL_VENCIDO',data=df_tiempo,palette='Set1', ci = None, legend='brief', hue='GENERO')"
   ]
  },
  {
   "cell_type": "code",
   "execution_count": 6,
   "metadata": {},
   "outputs": [
    {
     "data": {
      "text/plain": [
       "<AxesSubplot:xlabel='FECHA', ylabel='SALDO_TOTAL'>"
      ]
     },
     "execution_count": 6,
     "metadata": {},
     "output_type": "execute_result"
    },
    {
     "data": {
      "image/png": "[encoded data removed]",
      "text/plain": [
       "<Figure size 1080x216 with 1 Axes>"
      ]
     },
     "metadata": {
      "needs_background": "light"
     },
     "output_type": "display_data"
    }
   ],
   "source": [
    "#Plot capital vencido\n",
    "plt.figure(figsize=(15, 3))\n",
    "sns.lineplot(x='FECHA',y='SALDO_TOTAL',data=df_tiempo,palette='Set1', ci = None, legend='brief')"
   ]
  },
  {
   "cell_type": "code",
   "execution_count": 7,
   "metadata": {},
   "outputs": [
    {
     "data": {
      "text/plain": [
       "<AxesSubplot:xlabel='FECHA', ylabel='CLIENTES_MORA'>"
      ]
     },
     "execution_count": 7,
     "metadata": {},
     "output_type": "execute_result"
    },
    {
     "data": {
      "image/png": "[encoded data removed]",
      "text/plain": [
       "<Figure size 1080x216 with 1 Axes>"
      ]
     },
     "metadata": {
      "needs_background": "light"
     },
     "output_type": "display_data"
    }
   ],
   "source": [
    "#Plot capital vencido\n",
    "plt.figure(figsize=(15, 3))\n",
    "sns.lineplot(x='FECHA',y='CLIENTES_MORA',data=df_tiempo,palette='Set1', ci = None, legend='brief')"
   ]
  },
  {
   "cell_type": "code",
   "execution_count": 8,
   "metadata": {},
   "outputs": [
    {
     "data": {
      "text/plain": [
       "Index(['NRO_SOLICITUD', 'OBLIGACION', 'PAGARE', 'NOM_TIPOCLIENTE', 'REGION',\n",
       "       'MUNICIPIO_CLIENTE', 'UBICACIO_CLIENTE', 'MONTO', 'FEC_SOLICITUD',\n",
       "       'FEC_APROBA', 'FEC_DESEMBOLSO', 'VALOR_CUOTA', 'CUOTAS_PACTADAS',\n",
       "       'CUOTAS_PENDIENTES', 'PERIODICIDAD', 'CALIFICACION_CIERRE', 'LINEA',\n",
       "       'COD_MODALIDAD', 'SALDO_OBLIGACION', 'VENCIDA', 'DIAS_VENCIDO',\n",
       "       'CAPITAL_VEN', 'INTERES_VEN', 'MORA', 'COMISION', 'FEC_ULT.PAGO',\n",
       "       'FEC_PROXIMO_PAGO', 'VENCIMIENTO_FINAL', 'PORCENTAJE_PAGO',\n",
       "       'TIPO_CREDITO', 'FECHA', 'TASA_NOM_ANUAL', 'TASA_PERIODICA', 'ID', 'PP',\n",
       "       'CP', 'GENERO', 'EDAD', 'NIVEL_DE_ESTUDIOS', 'MORA_STATUS', 'SUCURSAL',\n",
       "       'ESTRATO', 'DESTINACION', 'TIPO_VIVIENDA', 'CODEUDOR_REF', 'DEUDOR',\n",
       "       'ACUMULADO', 'NIVEL_DE_ESTUDIOS_NEW'],\n",
       "      dtype='object')"
      ]
     },
     "execution_count": 8,
     "metadata": {},
     "output_type": "execute_result"
    }
   ],
   "source": [
    "df.columns"
   ]
  },
  {
   "cell_type": "markdown",
   "metadata": {},
   "source": [
    "## transformando los csv en gzip"
   ]
  },
  {
   "cell_type": "markdown",
   "metadata": {},
   "source": [
    "### primero data_final.csv"
   ]
  },
  {
   "cell_type": "code",
   "execution_count": 16,
   "metadata": {},
   "outputs": [],
   "source": [
    "result_save = df.to_csv('Data_Final' + '.gzip', \\\n",
    "                                           index=True, \\\n",
    "                                           compression='gzip')"
   ]
  },
  {
   "cell_type": "code",
   "execution_count": 17,
   "metadata": {},
   "outputs": [],
   "source": [
    "reload = pd.read_csv('J:/Universidad/DS4A 6/frontend_fundacion_amanecer/notebooks/Data_Final.gzip',\n",
    " sep=\",\", encoding=\"utf-8\", low_memory=False, index_col=0, compression='gzip')"
   ]
  },
  {
   "cell_type": "code",
   "execution_count": 18,
   "metadata": {},
   "outputs": [
    {
     "name": "stdout",
     "output_type": "stream",
     "text": [
      "(790447, 48)\n",
      "(790447, 48)\n"
     ]
    }
   ],
   "source": [
    "print(reload.shape)\n",
    "print(df.shape)"
   ]
  },
  {
   "cell_type": "code",
   "execution_count": 19,
   "metadata": {},
   "outputs": [
    {
     "data": {
      "text/html": [
       "<div>\n",
       "<style scoped>\n",
       "    .dataframe tbody tr th:only-of-type {\n",
       "        vertical-align: middle;\n",
       "    }\n",
       "\n",
       "    .dataframe tbody tr th {\n",
       "        vertical-align: top;\n",
       "    }\n",
       "\n",
       "    .dataframe thead th {\n",
       "        text-align: right;\n",
       "    }\n",
       "</style>\n",
       "<table border=\"1\" class=\"dataframe\">\n",
       "  <thead>\n",
       "    <tr style=\"text-align: right;\">\n",
       "      <th></th>\n",
       "      <th>NRO_SOLICITUD</th>\n",
       "      <th>OBLIGACION</th>\n",
       "      <th>PAGARE</th>\n",
       "      <th>NOM_TIPOCLIENTE</th>\n",
       "      <th>REGION</th>\n",
       "      <th>MUNICIPIO_CLIENTE</th>\n",
       "      <th>UBICACIO_CLIENTE</th>\n",
       "      <th>MONTO</th>\n",
       "      <th>FEC_SOLICITUD</th>\n",
       "      <th>FEC_APROBA</th>\n",
       "      <th>...</th>\n",
       "      <th>NIVEL_DE_ESTUDIOS</th>\n",
       "      <th>MORA_STATUS</th>\n",
       "      <th>SUCURSAL</th>\n",
       "      <th>ESTRATO</th>\n",
       "      <th>DESTINACION</th>\n",
       "      <th>TIPO_VIVIENDA</th>\n",
       "      <th>CODEUDOR_REF</th>\n",
       "      <th>DEUDOR</th>\n",
       "      <th>ACUMULADO</th>\n",
       "      <th>NIVEL_DE_ESTUDIOS_NEW</th>\n",
       "    </tr>\n",
       "  </thead>\n",
       "  <tbody>\n",
       "    <tr>\n",
       "      <th>0</th>\n",
       "      <td>29179</td>\n",
       "      <td>29179</td>\n",
       "      <td>37327</td>\n",
       "      <td>Microfinanciero</td>\n",
       "      <td>REGION CENTRO</td>\n",
       "      <td>YOPAL</td>\n",
       "      <td>URBANA</td>\n",
       "      <td>24000000</td>\n",
       "      <td>2012-11-29</td>\n",
       "      <td>2012-11-30</td>\n",
       "      <td>...</td>\n",
       "      <td>Universitaria</td>\n",
       "      <td>0.0</td>\n",
       "      <td>NaN</td>\n",
       "      <td>NaN</td>\n",
       "      <td>NaN</td>\n",
       "      <td>NaN</td>\n",
       "      <td>NaN</td>\n",
       "      <td>1</td>\n",
       "      <td>0</td>\n",
       "      <td>Superior</td>\n",
       "    </tr>\n",
       "    <tr>\n",
       "      <th>1</th>\n",
       "      <td>29179</td>\n",
       "      <td>29179</td>\n",
       "      <td>37327</td>\n",
       "      <td>Microfinanciero</td>\n",
       "      <td>REGION CENTRO</td>\n",
       "      <td>YOPAL</td>\n",
       "      <td>URBANA</td>\n",
       "      <td>24000000</td>\n",
       "      <td>2012-11-29</td>\n",
       "      <td>2012-11-30</td>\n",
       "      <td>...</td>\n",
       "      <td>Universitaria</td>\n",
       "      <td>0.0</td>\n",
       "      <td>NaN</td>\n",
       "      <td>NaN</td>\n",
       "      <td>NaN</td>\n",
       "      <td>NaN</td>\n",
       "      <td>NaN</td>\n",
       "      <td>1</td>\n",
       "      <td>0</td>\n",
       "      <td>Superior</td>\n",
       "    </tr>\n",
       "    <tr>\n",
       "      <th>2</th>\n",
       "      <td>29179</td>\n",
       "      <td>29179</td>\n",
       "      <td>37327</td>\n",
       "      <td>Microfinanciero</td>\n",
       "      <td>REGION CENTRO</td>\n",
       "      <td>YOPAL</td>\n",
       "      <td>URBANA</td>\n",
       "      <td>24000000</td>\n",
       "      <td>2012-11-29</td>\n",
       "      <td>2012-11-30</td>\n",
       "      <td>...</td>\n",
       "      <td>Universitaria</td>\n",
       "      <td>0.0</td>\n",
       "      <td>NaN</td>\n",
       "      <td>NaN</td>\n",
       "      <td>NaN</td>\n",
       "      <td>NaN</td>\n",
       "      <td>NaN</td>\n",
       "      <td>1</td>\n",
       "      <td>0</td>\n",
       "      <td>Superior</td>\n",
       "    </tr>\n",
       "    <tr>\n",
       "      <th>3</th>\n",
       "      <td>29179</td>\n",
       "      <td>29179</td>\n",
       "      <td>37327</td>\n",
       "      <td>Microfinanciero</td>\n",
       "      <td>REGION CENTRO</td>\n",
       "      <td>YOPAL</td>\n",
       "      <td>URBANA</td>\n",
       "      <td>24000000</td>\n",
       "      <td>2012-11-29</td>\n",
       "      <td>2012-11-30</td>\n",
       "      <td>...</td>\n",
       "      <td>Universitaria</td>\n",
       "      <td>0.0</td>\n",
       "      <td>NaN</td>\n",
       "      <td>NaN</td>\n",
       "      <td>NaN</td>\n",
       "      <td>NaN</td>\n",
       "      <td>NaN</td>\n",
       "      <td>1</td>\n",
       "      <td>0</td>\n",
       "      <td>Superior</td>\n",
       "    </tr>\n",
       "    <tr>\n",
       "      <th>4</th>\n",
       "      <td>29179</td>\n",
       "      <td>29179</td>\n",
       "      <td>37327</td>\n",
       "      <td>Microfinanciero</td>\n",
       "      <td>REGION CENTRO</td>\n",
       "      <td>YOPAL</td>\n",
       "      <td>URBANA</td>\n",
       "      <td>24000000</td>\n",
       "      <td>2012-11-29</td>\n",
       "      <td>2012-11-30</td>\n",
       "      <td>...</td>\n",
       "      <td>Universitaria</td>\n",
       "      <td>0.0</td>\n",
       "      <td>NaN</td>\n",
       "      <td>NaN</td>\n",
       "      <td>NaN</td>\n",
       "      <td>NaN</td>\n",
       "      <td>NaN</td>\n",
       "      <td>1</td>\n",
       "      <td>0</td>\n",
       "      <td>Superior</td>\n",
       "    </tr>\n",
       "  </tbody>\n",
       "</table>\n",
       "<p>5 rows × 48 columns</p>\n",
       "</div>"
      ],
      "text/plain": [
       "   NRO_SOLICITUD  OBLIGACION PAGARE  NOM_TIPOCLIENTE         REGION  \\\n",
       "0          29179       29179  37327  Microfinanciero  REGION CENTRO   \n",
       "1          29179       29179  37327  Microfinanciero  REGION CENTRO   \n",
       "2          29179       29179  37327  Microfinanciero  REGION CENTRO   \n",
       "3          29179       29179  37327  Microfinanciero  REGION CENTRO   \n",
       "4          29179       29179  37327  Microfinanciero  REGION CENTRO   \n",
       "\n",
       "  MUNICIPIO_CLIENTE UBICACIO_CLIENTE     MONTO FEC_SOLICITUD  FEC_APROBA  ...  \\\n",
       "0             YOPAL           URBANA  24000000    2012-11-29  2012-11-30  ...   \n",
       "1             YOPAL           URBANA  24000000    2012-11-29  2012-11-30  ...   \n",
       "2             YOPAL           URBANA  24000000    2012-11-29  2012-11-30  ...   \n",
       "3             YOPAL           URBANA  24000000    2012-11-29  2012-11-30  ...   \n",
       "4             YOPAL           URBANA  24000000    2012-11-29  2012-11-30  ...   \n",
       "\n",
       "  NIVEL_DE_ESTUDIOS  MORA_STATUS  SUCURSAL  ESTRATO DESTINACION TIPO_VIVIENDA  \\\n",
       "0    Universitaria           0.0       NaN      NaN         NaN           NaN   \n",
       "1    Universitaria           0.0       NaN      NaN         NaN           NaN   \n",
       "2    Universitaria           0.0       NaN      NaN         NaN           NaN   \n",
       "3    Universitaria           0.0       NaN      NaN         NaN           NaN   \n",
       "4    Universitaria           0.0       NaN      NaN         NaN           NaN   \n",
       "\n",
       "  CODEUDOR_REF  DEUDOR  ACUMULADO  NIVEL_DE_ESTUDIOS_NEW  \n",
       "0          NaN       1          0               Superior  \n",
       "1          NaN       1          0               Superior  \n",
       "2          NaN       1          0               Superior  \n",
       "3          NaN       1          0               Superior  \n",
       "4          NaN       1          0               Superior  \n",
       "\n",
       "[5 rows x 48 columns]"
      ]
     },
     "execution_count": 19,
     "metadata": {},
     "output_type": "execute_result"
    }
   ],
   "source": [
    "reload.head()"
   ]
  },
  {
   "cell_type": "markdown",
   "metadata": {},
   "source": [
    "### transformando data_modelo.csv"
   ]
  },
  {
   "cell_type": "code",
   "execution_count": 20,
   "metadata": {},
   "outputs": [],
   "source": [
    "df_modelo = pd.read_csv('J:/Universidad/DS4A 6/frontend_fundacion_amanecer/data/Data_modelo.csv', sep=\",\",encoding=\"utf-8\",low_memory=False,index_col=0)"
   ]
  },
  {
   "cell_type": "code",
   "execution_count": 22,
   "metadata": {},
   "outputs": [],
   "source": [
    "result_save1 = df_modelo.to_csv('Data_modelo' + '.gzip', \\\n",
    "                                           index=True, \\\n",
    "                                           compression='gzip')"
   ]
  },
  {
   "cell_type": "code",
   "execution_count": 23,
   "metadata": {},
   "outputs": [],
   "source": [
    "reload2 = pd.read_csv('J:/Universidad/DS4A 6/frontend_fundacion_amanecer/notebooks/Data_modelo.gzip',\n",
    " sep=\",\", encoding=\"utf-8\", low_memory=False, index_col=0, compression='gzip')"
   ]
  },
  {
   "cell_type": "code",
   "execution_count": 25,
   "metadata": {},
   "outputs": [
    {
     "name": "stdout",
     "output_type": "stream",
     "text": [
      "(605985, 49)\n",
      "(605985, 49)\n"
     ]
    }
   ],
   "source": [
    "print(reload2.shape)\n",
    "print(df_modelo.shape)"
   ]
  },
  {
   "cell_type": "code",
   "execution_count": 26,
   "metadata": {},
   "outputs": [
    {
     "data": {
      "text/html": [
       "<div>\n",
       "<style scoped>\n",
       "    .dataframe tbody tr th:only-of-type {\n",
       "        vertical-align: middle;\n",
       "    }\n",
       "\n",
       "    .dataframe tbody tr th {\n",
       "        vertical-align: top;\n",
       "    }\n",
       "\n",
       "    .dataframe thead th {\n",
       "        text-align: right;\n",
       "    }\n",
       "</style>\n",
       "<table border=\"1\" class=\"dataframe\">\n",
       "  <thead>\n",
       "    <tr style=\"text-align: right;\">\n",
       "      <th></th>\n",
       "      <th>NRO_SOLICITUD</th>\n",
       "      <th>OBLIGACION</th>\n",
       "      <th>PAGARE</th>\n",
       "      <th>NOM_TIPOCLIENTE</th>\n",
       "      <th>REGION</th>\n",
       "      <th>MUNICIPIO_CLIENTE</th>\n",
       "      <th>UBICACIO_CLIENTE</th>\n",
       "      <th>MONTO</th>\n",
       "      <th>FEC_SOLICITUD</th>\n",
       "      <th>FEC_APROBA</th>\n",
       "      <th>...</th>\n",
       "      <th>MORA_STATUS</th>\n",
       "      <th>SUCURSAL</th>\n",
       "      <th>ESTRATO</th>\n",
       "      <th>DESTINACION</th>\n",
       "      <th>TIPO_VIVIENDA</th>\n",
       "      <th>CODEUDOR_REF</th>\n",
       "      <th>DEUDOR</th>\n",
       "      <th>ACUMULADO</th>\n",
       "      <th>NIVEL_DE_ESTUDIOS_NEW</th>\n",
       "      <th>AÑO_APROBACION</th>\n",
       "    </tr>\n",
       "  </thead>\n",
       "  <tbody>\n",
       "    <tr>\n",
       "      <th>182952</th>\n",
       "      <td>171000001</td>\n",
       "      <td>171000001</td>\n",
       "      <td>171000001</td>\n",
       "      <td>Microfinanciero</td>\n",
       "      <td>REGION CENTRO</td>\n",
       "      <td>YOPAL</td>\n",
       "      <td>URBANA</td>\n",
       "      <td>1000000</td>\n",
       "      <td>2017-01-17</td>\n",
       "      <td>2017-01-17</td>\n",
       "      <td>...</td>\n",
       "      <td>1.0</td>\n",
       "      <td>YOPAL</td>\n",
       "      <td>2.0</td>\n",
       "      <td>CAPITAL DE TRABAJO</td>\n",
       "      <td>Familiar</td>\n",
       "      <td>1</td>\n",
       "      <td>0</td>\n",
       "      <td>0</td>\n",
       "      <td>Media</td>\n",
       "      <td>2017</td>\n",
       "    </tr>\n",
       "    <tr>\n",
       "      <th>182953</th>\n",
       "      <td>171000001</td>\n",
       "      <td>171000001</td>\n",
       "      <td>171000001</td>\n",
       "      <td>Microfinanciero</td>\n",
       "      <td>REGION CENTRO</td>\n",
       "      <td>YOPAL</td>\n",
       "      <td>URBANA</td>\n",
       "      <td>1000000</td>\n",
       "      <td>2017-01-17</td>\n",
       "      <td>2017-01-17</td>\n",
       "      <td>...</td>\n",
       "      <td>1.0</td>\n",
       "      <td>YOPAL</td>\n",
       "      <td>2.0</td>\n",
       "      <td>CAPITAL DE TRABAJO</td>\n",
       "      <td>Familiar</td>\n",
       "      <td>1</td>\n",
       "      <td>0</td>\n",
       "      <td>0</td>\n",
       "      <td>Media</td>\n",
       "      <td>2017</td>\n",
       "    </tr>\n",
       "    <tr>\n",
       "      <th>182954</th>\n",
       "      <td>171000001</td>\n",
       "      <td>171000001</td>\n",
       "      <td>171000001</td>\n",
       "      <td>Microfinanciero</td>\n",
       "      <td>REGION CENTRO</td>\n",
       "      <td>YOPAL</td>\n",
       "      <td>URBANA</td>\n",
       "      <td>1000000</td>\n",
       "      <td>2017-01-17</td>\n",
       "      <td>2017-01-17</td>\n",
       "      <td>...</td>\n",
       "      <td>1.0</td>\n",
       "      <td>YOPAL</td>\n",
       "      <td>2.0</td>\n",
       "      <td>CAPITAL DE TRABAJO</td>\n",
       "      <td>Familiar</td>\n",
       "      <td>1</td>\n",
       "      <td>0</td>\n",
       "      <td>0</td>\n",
       "      <td>Media</td>\n",
       "      <td>2017</td>\n",
       "    </tr>\n",
       "    <tr>\n",
       "      <th>182955</th>\n",
       "      <td>171000001</td>\n",
       "      <td>171000001</td>\n",
       "      <td>171000001</td>\n",
       "      <td>Microfinanciero</td>\n",
       "      <td>REGION CENTRO</td>\n",
       "      <td>YOPAL</td>\n",
       "      <td>URBANA</td>\n",
       "      <td>1000000</td>\n",
       "      <td>2017-01-17</td>\n",
       "      <td>2017-01-17</td>\n",
       "      <td>...</td>\n",
       "      <td>1.0</td>\n",
       "      <td>YOPAL</td>\n",
       "      <td>2.0</td>\n",
       "      <td>CAPITAL DE TRABAJO</td>\n",
       "      <td>Familiar</td>\n",
       "      <td>1</td>\n",
       "      <td>1</td>\n",
       "      <td>0</td>\n",
       "      <td>Media</td>\n",
       "      <td>2017</td>\n",
       "    </tr>\n",
       "    <tr>\n",
       "      <th>182956</th>\n",
       "      <td>171000001</td>\n",
       "      <td>171000001</td>\n",
       "      <td>171000001</td>\n",
       "      <td>Microfinanciero</td>\n",
       "      <td>REGION CENTRO</td>\n",
       "      <td>YOPAL</td>\n",
       "      <td>URBANA</td>\n",
       "      <td>1000000</td>\n",
       "      <td>2017-01-17</td>\n",
       "      <td>2017-01-17</td>\n",
       "      <td>...</td>\n",
       "      <td>1.0</td>\n",
       "      <td>YOPAL</td>\n",
       "      <td>2.0</td>\n",
       "      <td>CAPITAL DE TRABAJO</td>\n",
       "      <td>Familiar</td>\n",
       "      <td>1</td>\n",
       "      <td>1</td>\n",
       "      <td>0</td>\n",
       "      <td>Media</td>\n",
       "      <td>2017</td>\n",
       "    </tr>\n",
       "  </tbody>\n",
       "</table>\n",
       "<p>5 rows × 49 columns</p>\n",
       "</div>"
      ],
      "text/plain": [
       "        NRO_SOLICITUD  OBLIGACION     PAGARE  NOM_TIPOCLIENTE         REGION  \\\n",
       "182952      171000001   171000001  171000001  Microfinanciero  REGION CENTRO   \n",
       "182953      171000001   171000001  171000001  Microfinanciero  REGION CENTRO   \n",
       "182954      171000001   171000001  171000001  Microfinanciero  REGION CENTRO   \n",
       "182955      171000001   171000001  171000001  Microfinanciero  REGION CENTRO   \n",
       "182956      171000001   171000001  171000001  Microfinanciero  REGION CENTRO   \n",
       "\n",
       "       MUNICIPIO_CLIENTE UBICACIO_CLIENTE    MONTO FEC_SOLICITUD  FEC_APROBA  \\\n",
       "182952             YOPAL           URBANA  1000000    2017-01-17  2017-01-17   \n",
       "182953             YOPAL           URBANA  1000000    2017-01-17  2017-01-17   \n",
       "182954             YOPAL           URBANA  1000000    2017-01-17  2017-01-17   \n",
       "182955             YOPAL           URBANA  1000000    2017-01-17  2017-01-17   \n",
       "182956             YOPAL           URBANA  1000000    2017-01-17  2017-01-17   \n",
       "\n",
       "        ... MORA_STATUS  SUCURSAL  ESTRATO         DESTINACION TIPO_VIVIENDA  \\\n",
       "182952  ...         1.0     YOPAL      2.0  CAPITAL DE TRABAJO      Familiar   \n",
       "182953  ...         1.0     YOPAL      2.0  CAPITAL DE TRABAJO      Familiar   \n",
       "182954  ...         1.0     YOPAL      2.0  CAPITAL DE TRABAJO      Familiar   \n",
       "182955  ...         1.0     YOPAL      2.0  CAPITAL DE TRABAJO      Familiar   \n",
       "182956  ...         1.0     YOPAL      2.0  CAPITAL DE TRABAJO      Familiar   \n",
       "\n",
       "       CODEUDOR_REF DEUDOR  ACUMULADO  NIVEL_DE_ESTUDIOS_NEW  AÑO_APROBACION  \n",
       "182952            1      0          0                  Media            2017  \n",
       "182953            1      0          0                  Media            2017  \n",
       "182954            1      0          0                  Media            2017  \n",
       "182955            1      1          0                  Media            2017  \n",
       "182956            1      1          0                  Media            2017  \n",
       "\n",
       "[5 rows x 49 columns]"
      ]
     },
     "execution_count": 26,
     "metadata": {},
     "output_type": "execute_result"
    }
   ],
   "source": [
    "reload2.head()"
   ]
  },
  {
   "cell_type": "markdown",
   "metadata": {},
   "source": [
    "### Transformando municipios y departamentos"
   ]
  },
  {
   "cell_type": "code",
   "execution_count": 27,
   "metadata": {},
   "outputs": [],
   "source": [
    "df_md = pd.read_csv('J:/Universidad/DS4A 6/frontend_fundacion_amanecer/data/municipios_y_departamentos.csv', sep=\",\",encoding=\"utf-8\",low_memory=False,index_col=0)"
   ]
  },
  {
   "cell_type": "code",
   "execution_count": 29,
   "metadata": {},
   "outputs": [],
   "source": [
    "result_save3 = df_md.to_csv('Municipios_departamentos' + '.gzip', \\\n",
    "                                           index=True, \\\n",
    "                                           compression='gzip')"
   ]
  },
  {
   "cell_type": "code",
   "execution_count": 30,
   "metadata": {},
   "outputs": [],
   "source": [
    "reload3 = pd.read_csv('J:/Universidad/DS4A 6/frontend_fundacion_amanecer/notebooks/Municipios_departamentos.gzip',\n",
    " sep=\",\", encoding=\"utf-8\", low_memory=False, index_col=0, compression='gzip')"
   ]
  },
  {
   "cell_type": "code",
   "execution_count": 31,
   "metadata": {},
   "outputs": [
    {
     "name": "stdout",
     "output_type": "stream",
     "text": [
      "(275, 4)\n",
      "(275, 4)\n"
     ]
    }
   ],
   "source": [
    "print(reload3.shape)\n",
    "print(df_md.shape)"
   ]
  },
  {
   "cell_type": "markdown",
   "metadata": {},
   "source": [
    "### Transformando prueba_reglog"
   ]
  },
  {
   "cell_type": "code",
   "execution_count": 9,
   "metadata": {},
   "outputs": [],
   "source": [
    "df_reglog = pd.read_csv('J:/Universidad/DS4A 6/frontend_fundacion_amanecer/data/prueba_reglog.csv', sep=\",\",encoding=\"utf-8\",low_memory=False,index_col=0)"
   ]
  },
  {
   "cell_type": "code",
   "execution_count": 10,
   "metadata": {},
   "outputs": [],
   "source": [
    "result_save4 = df_reglog.to_csv('Prueba_reglog' + '.gzip', \\\n",
    "                                           index=True, \\\n",
    "                                           compression='gzip')"
   ]
  },
  {
   "cell_type": "code",
   "execution_count": 12,
   "metadata": {},
   "outputs": [],
   "source": [
    "reload4 = pd.read_csv('J:/Universidad/DS4A 6/frontend_fundacion_amanecer/data/Prueba_reglog.gzip',\n",
    " sep=\",\", encoding=\"utf-8\", low_memory=False, index_col=0, compression='gzip')"
   ]
  },
  {
   "cell_type": "code",
   "execution_count": 13,
   "metadata": {},
   "outputs": [
    {
     "name": "stdout",
     "output_type": "stream",
     "text": [
      "(605780, 31)\n",
      "(605780, 31)\n"
     ]
    }
   ],
   "source": [
    "print(reload4.shape)\n",
    "print(df_reglog.shape)"
   ]
  }
 ],
 "metadata": {
  "kernelspec": {
   "display_name": "Python 3.9.0 64-bit",
   "language": "python",
   "name": "python3"
  },
  "language_info": {
   "codemirror_mode": {
    "name": "ipython",
    "version": 3
   },
   "file_extension": ".py",
   "mimetype": "text/x-python",
   "name": "python",
   "nbconvert_exporter": "python",
   "pygments_lexer": "ipython3",
   "version": "3.9.0"
  },
  "orig_nbformat": 4,
  "vscode": {
   "interpreter": {
    "hash": "81794d4967e6c3204c66dcd87b604927b115b27c00565d3d43f05ba2f3a2cb0d"
   }
  }
 },
 "nbformat": 4,
 "nbformat_minor": 2
}
