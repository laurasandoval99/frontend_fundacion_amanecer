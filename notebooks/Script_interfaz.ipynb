{
 "cells": [
  {
   "cell_type": "code",
   "execution_count": 1,
   "metadata": {},
   "outputs": [],
   "source": [
    "import pandas as pd\n",
    "import matplotlib.pyplot as plt\n",
    "import seaborn as sns\n",
    "#import numpy as np\n",
    "#from matplotlib import rcParams\n",
    "#from scipy import stats"
   ]
  },
  {
   "cell_type": "markdown",
   "metadata": {},
   "source": [
    "# Ingreso de datos"
   ]
  },
  {
   "cell_type": "code",
   "execution_count": 10,
   "metadata": {},
   "outputs": [
    {
     "name": "stdout",
     "output_type": "stream",
     "text": [
      "<class 'pandas.core.frame.DataFrame'>\n",
      "Int64Index: 152696 entries, 11445 to 790446\n",
      "Data columns (total 48 columns):\n",
      " #   Column                 Non-Null Count   Dtype         \n",
      "---  ------                 --------------   -----         \n",
      " 0   NRO_SOLICITUD          152696 non-null  int64         \n",
      " 1   OBLIGACION             152696 non-null  int64         \n",
      " 2   PAGARE                 152696 non-null  object        \n",
      " 3   NOM_TIPOCLIENTE        152696 non-null  object        \n",
      " 4   REGION                 152696 non-null  object        \n",
      " 5   MUNICIPIO_CLIENTE      152696 non-null  object        \n",
      " 6   UBICACIO_CLIENTE       152696 non-null  object        \n",
      " 7   MONTO                  152696 non-null  int64         \n",
      " 8   FEC_SOLICITUD          152696 non-null  object        \n",
      " 9   FEC_APROBA             152696 non-null  object        \n",
      " 10  FEC_DESEMBOLSO         152696 non-null  object        \n",
      " 11  VALOR_CUOTA            152696 non-null  float64       \n",
      " 12  CUOTAS_PACTADAS        152696 non-null  float64       \n",
      " 13  CUOTAS_PENDIENTES      152696 non-null  float64       \n",
      " 14  PERIODICIDAD           152696 non-null  object        \n",
      " 15  CALIFICACION_CIERRE    152696 non-null  object        \n",
      " 16  LINEA                  152696 non-null  object        \n",
      " 17  COD_MODALIDAD          152696 non-null  int64         \n",
      " 18  SALDO_OBLIGACION       152696 non-null  int64         \n",
      " 19  VENCIDA                152696 non-null  int64         \n",
      " 20  DIAS_VENCIDO           152696 non-null  int64         \n",
      " 21  CAPITAL_VEN            152696 non-null  int64         \n",
      " 22  INTERES_VEN            152696 non-null  int64         \n",
      " 23  MORA                   152696 non-null  int64         \n",
      " 24  COMISION               152696 non-null  int64         \n",
      " 25  FEC_ULT.PAGO           144686 non-null  object        \n",
      " 26  FEC_PROXIMO_PAGO       152696 non-null  object        \n",
      " 27  VENCIMIENTO_FINAL      152696 non-null  object        \n",
      " 28  PORCENTAJE_PAGO        133351 non-null  float64       \n",
      " 29  TIPO_CREDITO           152696 non-null  object        \n",
      " 30  FECHA                  152696 non-null  datetime64[ns]\n",
      " 31  TASA_NOM_ANUAL         152696 non-null  float64       \n",
      " 32  TASA_PERIODICA         152696 non-null  float64       \n",
      " 33  ID                     152696 non-null  object        \n",
      " 34  PP                     152696 non-null  int64         \n",
      " 35  CP                     152696 non-null  int64         \n",
      " 36  GENERO                 152497 non-null  object        \n",
      " 37  EDAD                   152491 non-null  float64       \n",
      " 38  NIVEL_DE_ESTUDIOS      152463 non-null  object        \n",
      " 39  MORA_STATUS            152696 non-null  float64       \n",
      " 40  SUCURSAL               152253 non-null  object        \n",
      " 41  ESTRATO                152064 non-null  float64       \n",
      " 42  DESTINACION            152253 non-null  object        \n",
      " 43  TIPO_VIVIENDA          152253 non-null  object        \n",
      " 44  CODEUDOR_REF           152253 non-null  float64       \n",
      " 45  DEUDOR                 152696 non-null  int64         \n",
      " 46  ACUMULADO              152696 non-null  int64         \n",
      " 47  NIVEL_DE_ESTUDIOS_NEW  152696 non-null  object        \n",
      "dtypes: datetime64[ns](1), float64(10), int64(15), object(22)\n",
      "memory usage: 57.1+ MB\n"
     ]
    }
   ],
   "source": [
    "df = pd.read_csv('J:/Universidad/DS4A 6/frontend_fundacion_amanecer/data/Data_Final.csv', sep=\",\",encoding=\"utf-8\",low_memory=False,index_col=0)\n",
    "\n",
    "# Dar formato de fecha\n",
    "df['FECHA'] = pd.to_datetime(df['FECHA'], format = \"%Y-%m\" )\n",
    "start_date = '2020-08-01'   \n",
    "end_date = '2021-08-01'\n",
    "mask = (df['FECHA'] > start_date) & (df['FECHA'] <= end_date)\n",
    "df = df.loc[mask]\n",
    "df.info()"
   ]
  },
  {
   "cell_type": "code",
   "execution_count": 11,
   "metadata": {},
   "outputs": [],
   "source": [
    "# Dataframe ultimo mes registrado\n",
    "df_ultimo  =  df[df['FECHA'] == df['FECHA'].max()]\n",
    "\n",
    "# Indicador 1: Total capital vencido en el ultimos mes registrado\n",
    "cap_ven = df_ultimo['CAPITAL_VEN'].sum()\n",
    "\n",
    "# Indicador 2: porcentaje de clientes que estan en mora en el ultimos mes registrado\n",
    "por_mora = df_ultimo['DEUDOR'].sum()/df_ultimo['DEUDOR'].count()\n",
    "\n",
    "# Indicador 3: Total por pagar en el ultimo mes registrado\n",
    "total_saldo = df_ultimo['SALDO_OBLIGACION'].sum()\n"
   ]
  },
  {
   "cell_type": "code",
   "execution_count": 12,
   "metadata": {},
   "outputs": [
    {
     "data": {
      "text/html": [
       "<div>\n",
       "<style scoped>\n",
       "    .dataframe tbody tr th:only-of-type {\n",
       "        vertical-align: middle;\n",
       "    }\n",
       "\n",
       "    .dataframe tbody tr th {\n",
       "        vertical-align: top;\n",
       "    }\n",
       "\n",
       "    .dataframe thead th {\n",
       "        text-align: right;\n",
       "    }\n",
       "</style>\n",
       "<table border=\"1\" class=\"dataframe\">\n",
       "  <thead>\n",
       "    <tr style=\"text-align: right;\">\n",
       "      <th></th>\n",
       "      <th>FECHA</th>\n",
       "      <th>GENERO</th>\n",
       "      <th>CAPITAL_VENCIDO</th>\n",
       "      <th>DEUDOR_SUMA</th>\n",
       "      <th>DEUDOR_COUNT</th>\n",
       "      <th>SALDO_TOTAL</th>\n",
       "      <th>CLIENTES_MORA</th>\n",
       "    </tr>\n",
       "  </thead>\n",
       "  <tbody>\n",
       "    <tr>\n",
       "      <th>0</th>\n",
       "      <td>2020-09-01</td>\n",
       "      <td>Femenino</td>\n",
       "      <td>1123956761</td>\n",
       "      <td>2062</td>\n",
       "      <td>7048</td>\n",
       "      <td>19545245419</td>\n",
       "      <td>0.292565</td>\n",
       "    </tr>\n",
       "    <tr>\n",
       "      <th>1</th>\n",
       "      <td>2020-09-01</td>\n",
       "      <td>Masculino</td>\n",
       "      <td>1237315747</td>\n",
       "      <td>1743</td>\n",
       "      <td>5845</td>\n",
       "      <td>19148591870</td>\n",
       "      <td>0.298204</td>\n",
       "    </tr>\n",
       "    <tr>\n",
       "      <th>2</th>\n",
       "      <td>2020-10-01</td>\n",
       "      <td>Femenino</td>\n",
       "      <td>1116401870</td>\n",
       "      <td>1962</td>\n",
       "      <td>7118</td>\n",
       "      <td>19843402650</td>\n",
       "      <td>0.275639</td>\n",
       "    </tr>\n",
       "    <tr>\n",
       "      <th>3</th>\n",
       "      <td>2020-10-01</td>\n",
       "      <td>Masculino</td>\n",
       "      <td>1251485637</td>\n",
       "      <td>1651</td>\n",
       "      <td>5929</td>\n",
       "      <td>19532804716</td>\n",
       "      <td>0.278462</td>\n",
       "    </tr>\n",
       "    <tr>\n",
       "      <th>4</th>\n",
       "      <td>2020-11-01</td>\n",
       "      <td>Femenino</td>\n",
       "      <td>1183602085</td>\n",
       "      <td>2036</td>\n",
       "      <td>7075</td>\n",
       "      <td>20005715608</td>\n",
       "      <td>0.287774</td>\n",
       "    </tr>\n",
       "  </tbody>\n",
       "</table>\n",
       "</div>"
      ],
      "text/plain": [
       "       FECHA      GENERO  CAPITAL_VENCIDO  DEUDOR_SUMA  DEUDOR_COUNT  \\\n",
       "0 2020-09-01   Femenino        1123956761         2062          7048   \n",
       "1 2020-09-01  Masculino        1237315747         1743          5845   \n",
       "2 2020-10-01   Femenino        1116401870         1962          7118   \n",
       "3 2020-10-01  Masculino        1251485637         1651          5929   \n",
       "4 2020-11-01   Femenino        1183602085         2036          7075   \n",
       "\n",
       "   SALDO_TOTAL  CLIENTES_MORA  \n",
       "0  19545245419       0.292565  \n",
       "1  19148591870       0.298204  \n",
       "2  19843402650       0.275639  \n",
       "3  19532804716       0.278462  \n",
       "4  20005715608       0.287774  "
      ]
     },
     "execution_count": 12,
     "metadata": {},
     "output_type": "execute_result"
    }
   ],
   "source": [
    "# Agrupar por fecha y variables de interes\n",
    "df_tiempo = df.groupby(['FECHA','GENERO'], as_index=False).agg(CAPITAL_VENCIDO= ('CAPITAL_VEN','sum'),\n",
    "                                     DEUDOR_SUMA = ('DEUDOR','sum'),\n",
    "                                     DEUDOR_COUNT= ('DEUDOR','count'),\n",
    "                                     SALDO_TOTAL= ('SALDO_OBLIGACION','sum'))\n",
    "\n",
    "#Poner clientes en mora en porcentajes\n",
    "df_tiempo['CLIENTES_MORA'] = df_tiempo['DEUDOR_SUMA']/df_tiempo['DEUDOR_COUNT']\n",
    "df_tiempo.head()"
   ]
  },
  {
   "cell_type": "code",
   "execution_count": 13,
   "metadata": {},
   "outputs": [
    {
     "data": {
      "text/plain": [
       "<AxesSubplot:xlabel='FECHA', ylabel='CAPITAL_VENCIDO'>"
      ]
     },
     "execution_count": 13,
     "metadata": {},
     "output_type": "execute_result"
    },
    {
     "data": {
      "image/png": "[encoded data removed]",
      "text/plain": [
       "<Figure size 1080x216 with 1 Axes>"
      ]
     },
     "metadata": {
      "needs_background": "light"
     },
     "output_type": "display_data"
    }
   ],
   "source": [
    "#Plot capital vencido\n",
    "plt.figure(figsize=(15, 3))\n",
    "sns.lineplot(x='FECHA',y='CAPITAL_VENCIDO',data=df_tiempo,palette='Set1', ci = None, legend='brief', hue='GENERO')"
   ]
  },
  {
   "cell_type": "code",
   "execution_count": 14,
   "metadata": {},
   "outputs": [
    {
     "data": {
      "text/plain": [
       "<AxesSubplot:xlabel='FECHA', ylabel='SALDO_TOTAL'>"
      ]
     },
     "execution_count": 14,
     "metadata": {},
     "output_type": "execute_result"
    },
    {
     "data": {
      "image/png": "[encoded data removed]",
      "text/plain": [
       "<Figure size 1080x216 with 1 Axes>"
      ]
     },
     "metadata": {
      "needs_background": "light"
     },
     "output_type": "display_data"
    }
   ],
   "source": [
    "#Plot capital vencido\n",
    "plt.figure(figsize=(15, 3))\n",
    "sns.lineplot(x='FECHA',y='SALDO_TOTAL',data=df_tiempo,palette='Set1', ci = None, legend='brief')"
   ]
  },
  {
   "cell_type": "code",
   "execution_count": 15,
   "metadata": {},
   "outputs": [
    {
     "data": {
      "text/plain": [
       "<AxesSubplot:xlabel='FECHA', ylabel='CLIENTES_MORA'>"
      ]
     },
     "execution_count": 15,
     "metadata": {},
     "output_type": "execute_result"
    },
    {
     "data": {
      "image/png": "[encoded data removed]",
      "text/plain": [
       "<Figure size 1080x216 with 1 Axes>"
      ]
     },
     "metadata": {
      "needs_background": "light"
     },
     "output_type": "display_data"
    }
   ],
   "source": [
    "#Plot capital vencido\n",
    "plt.figure(figsize=(15, 3))\n",
    "sns.lineplot(x='FECHA',y='CLIENTES_MORA',data=df_tiempo,palette='Set1', ci = None, legend='brief')"
   ]
  },
  {
   "cell_type": "code",
   "execution_count": 16,
   "metadata": {},
   "outputs": [
    {
     "data": {
      "text/plain": [
       "11445    2020-09-01\n",
       "11446    2020-10-01\n",
       "11447    2020-11-01\n",
       "11448    2020-12-01\n",
       "42615    2020-09-01\n",
       "            ...    \n",
       "790442   2021-08-01\n",
       "790443   2021-08-01\n",
       "790444   2021-08-01\n",
       "790445   2021-08-01\n",
       "790446   2021-08-01\n",
       "Name: FECHA, Length: 152696, dtype: datetime64[ns]"
      ]
     },
     "execution_count": 16,
     "metadata": {},
     "output_type": "execute_result"
    }
   ],
   "source": [
    "df['FECHA']"
   ]
  },
  {
   "cell_type": "markdown",
   "metadata": {},
   "source": [
    "## transformando los csv en gzip"
   ]
  },
  {
   "cell_type": "markdown",
   "metadata": {},
   "source": [
    "### primero data_final.csv"
   ]
  },
  {
   "cell_type": "code",
   "execution_count": 50,
   "metadata": {},
   "outputs": [],
   "source": [
    "result_save = df.to_csv('Data_Final' + '.gzip', \\\n",
    "                                           index=True, \\\n",
    "                                           compression='gzip')"
   ]
  },
  {
   "cell_type": "code",
   "execution_count": 48,
   "metadata": {},
   "outputs": [],
   "source": [
    "result_save1 = df.to_csv('Data_Final.csv',index=True)"
   ]
  },
  {
   "cell_type": "code",
   "execution_count": 51,
   "metadata": {},
   "outputs": [],
   "source": [
    "reload1 = pd.read_csv('J:/Universidad/DS4A 6/frontend_fundacion_amanecer/notebooks/Data_Final.gzip',\n",
    " sep=\",\", encoding=\"utf-8\", low_memory=False, index_col=0, compression='gzip')"
   ]
  },
  {
   "cell_type": "code",
   "execution_count": 52,
   "metadata": {},
   "outputs": [],
   "source": [
    "reload2 = pd.read_csv('J:/Universidad/DS4A 6/frontend_fundacion_amanecer/notebooks/Data_Final.csv',\n",
    " sep=\",\", encoding=\"utf-8\", low_memory=False, index_col=0)"
   ]
  },
  {
   "cell_type": "code",
   "execution_count": 53,
   "metadata": {},
   "outputs": [
    {
     "name": "stdout",
     "output_type": "stream",
     "text": [
      "(152696, 48)\n",
      "(152696, 48)\n",
      "(152696, 48)\n"
     ]
    }
   ],
   "source": [
    "print(reload1.shape)\n",
    "print(reload2.shape)\n",
    "print(df.shape)"
   ]
  },
  {
   "cell_type": "markdown",
   "metadata": {},
   "source": [
    "### transformando data_modelo.csv"
   ]
  },
  {
   "cell_type": "code",
   "execution_count": 20,
   "metadata": {},
   "outputs": [],
   "source": [
    "df_modelo = pd.read_csv('J:/Universidad/DS4A 6/frontend_fundacion_amanecer/data/Data_modelo.csv', sep=\",\",encoding=\"utf-8\",low_memory=False,index_col=0)"
   ]
  },
  {
   "cell_type": "code",
   "execution_count": 22,
   "metadata": {},
   "outputs": [],
   "source": [
    "result_save1 = df_modelo.to_csv('Data_modelo' + '.gzip', \\\n",
    "                                           index=True, \\\n",
    "                                           compression='gzip')"
   ]
  },
  {
   "cell_type": "code",
   "execution_count": 23,
   "metadata": {},
   "outputs": [],
   "source": [
    "reload2 = pd.read_csv('J:/Universidad/DS4A 6/frontend_fundacion_amanecer/notebooks/Data_modelo.gzip',\n",
    " sep=\",\", encoding=\"utf-8\", low_memory=False, index_col=0, compression='gzip')"
   ]
  },
  {
   "cell_type": "code",
   "execution_count": 25,
   "metadata": {},
   "outputs": [
    {
     "name": "stdout",
     "output_type": "stream",
     "text": [
      "(605985, 49)\n",
      "(605985, 49)\n"
     ]
    }
   ],
   "source": [
    "print(reload2.shape)\n",
    "print(df_modelo.shape)"
   ]
  },
  {
   "cell_type": "code",
   "execution_count": 26,
   "metadata": {},
   "outputs": [
    {
     "data": {
      "text/html": [
       "<div>\n",
       "<style scoped>\n",
       "    .dataframe tbody tr th:only-of-type {\n",
       "        vertical-align: middle;\n",
       "    }\n",
       "\n",
       "    .dataframe tbody tr th {\n",
       "        vertical-align: top;\n",
       "    }\n",
       "\n",
       "    .dataframe thead th {\n",
       "        text-align: right;\n",
       "    }\n",
       "</style>\n",
       "<table border=\"1\" class=\"dataframe\">\n",
       "  <thead>\n",
       "    <tr style=\"text-align: right;\">\n",
       "      <th></th>\n",
       "      <th>NRO_SOLICITUD</th>\n",
       "      <th>OBLIGACION</th>\n",
       "      <th>PAGARE</th>\n",
       "      <th>NOM_TIPOCLIENTE</th>\n",
       "      <th>REGION</th>\n",
       "      <th>MUNICIPIO_CLIENTE</th>\n",
       "      <th>UBICACIO_CLIENTE</th>\n",
       "      <th>MONTO</th>\n",
       "      <th>FEC_SOLICITUD</th>\n",
       "      <th>FEC_APROBA</th>\n",
       "      <th>...</th>\n",
       "      <th>MORA_STATUS</th>\n",
       "      <th>SUCURSAL</th>\n",
       "      <th>ESTRATO</th>\n",
       "      <th>DESTINACION</th>\n",
       "      <th>TIPO_VIVIENDA</th>\n",
       "      <th>CODEUDOR_REF</th>\n",
       "      <th>DEUDOR</th>\n",
       "      <th>ACUMULADO</th>\n",
       "      <th>NIVEL_DE_ESTUDIOS_NEW</th>\n",
       "      <th>AÑO_APROBACION</th>\n",
       "    </tr>\n",
       "  </thead>\n",
       "  <tbody>\n",
       "    <tr>\n",
       "      <th>182952</th>\n",
       "      <td>171000001</td>\n",
       "      <td>171000001</td>\n",
       "      <td>171000001</td>\n",
       "      <td>Microfinanciero</td>\n",
       "      <td>REGION CENTRO</td>\n",
       "      <td>YOPAL</td>\n",
       "      <td>URBANA</td>\n",
       "      <td>1000000</td>\n",
       "      <td>2017-01-17</td>\n",
       "      <td>2017-01-17</td>\n",
       "      <td>...</td>\n",
       "      <td>1.0</td>\n",
       "      <td>YOPAL</td>\n",
       "      <td>2.0</td>\n",
       "      <td>CAPITAL DE TRABAJO</td>\n",
       "      <td>Familiar</td>\n",
       "      <td>1</td>\n",
       "      <td>0</td>\n",
       "      <td>0</td>\n",
       "      <td>Media</td>\n",
       "      <td>2017</td>\n",
       "    </tr>\n",
       "    <tr>\n",
       "      <th>182953</th>\n",
       "      <td>171000001</td>\n",
       "      <td>171000001</td>\n",
       "      <td>171000001</td>\n",
       "      <td>Microfinanciero</td>\n",
       "      <td>REGION CENTRO</td>\n",
       "      <td>YOPAL</td>\n",
       "      <td>URBANA</td>\n",
       "      <td>1000000</td>\n",
       "      <td>2017-01-17</td>\n",
       "      <td>2017-01-17</td>\n",
       "      <td>...</td>\n",
       "      <td>1.0</td>\n",
       "      <td>YOPAL</td>\n",
       "      <td>2.0</td>\n",
       "      <td>CAPITAL DE TRABAJO</td>\n",
       "      <td>Familiar</td>\n",
       "      <td>1</td>\n",
       "      <td>0</td>\n",
       "      <td>0</td>\n",
       "      <td>Media</td>\n",
       "      <td>2017</td>\n",
       "    </tr>\n",
       "    <tr>\n",
       "      <th>182954</th>\n",
       "      <td>171000001</td>\n",
       "      <td>171000001</td>\n",
       "      <td>171000001</td>\n",
       "      <td>Microfinanciero</td>\n",
       "      <td>REGION CENTRO</td>\n",
       "      <td>YOPAL</td>\n",
       "      <td>URBANA</td>\n",
       "      <td>1000000</td>\n",
       "      <td>2017-01-17</td>\n",
       "      <td>2017-01-17</td>\n",
       "      <td>...</td>\n",
       "      <td>1.0</td>\n",
       "      <td>YOPAL</td>\n",
       "      <td>2.0</td>\n",
       "      <td>CAPITAL DE TRABAJO</td>\n",
       "      <td>Familiar</td>\n",
       "      <td>1</td>\n",
       "      <td>0</td>\n",
       "      <td>0</td>\n",
       "      <td>Media</td>\n",
       "      <td>2017</td>\n",
       "    </tr>\n",
       "    <tr>\n",
       "      <th>182955</th>\n",
       "      <td>171000001</td>\n",
       "      <td>171000001</td>\n",
       "      <td>171000001</td>\n",
       "      <td>Microfinanciero</td>\n",
       "      <td>REGION CENTRO</td>\n",
       "      <td>YOPAL</td>\n",
       "      <td>URBANA</td>\n",
       "      <td>1000000</td>\n",
       "      <td>2017-01-17</td>\n",
       "      <td>2017-01-17</td>\n",
       "      <td>...</td>\n",
       "      <td>1.0</td>\n",
       "      <td>YOPAL</td>\n",
       "      <td>2.0</td>\n",
       "      <td>CAPITAL DE TRABAJO</td>\n",
       "      <td>Familiar</td>\n",
       "      <td>1</td>\n",
       "      <td>1</td>\n",
       "      <td>0</td>\n",
       "      <td>Media</td>\n",
       "      <td>2017</td>\n",
       "    </tr>\n",
       "    <tr>\n",
       "      <th>182956</th>\n",
       "      <td>171000001</td>\n",
       "      <td>171000001</td>\n",
       "      <td>171000001</td>\n",
       "      <td>Microfinanciero</td>\n",
       "      <td>REGION CENTRO</td>\n",
       "      <td>YOPAL</td>\n",
       "      <td>URBANA</td>\n",
       "      <td>1000000</td>\n",
       "      <td>2017-01-17</td>\n",
       "      <td>2017-01-17</td>\n",
       "      <td>...</td>\n",
       "      <td>1.0</td>\n",
       "      <td>YOPAL</td>\n",
       "      <td>2.0</td>\n",
       "      <td>CAPITAL DE TRABAJO</td>\n",
       "      <td>Familiar</td>\n",
       "      <td>1</td>\n",
       "      <td>1</td>\n",
       "      <td>0</td>\n",
       "      <td>Media</td>\n",
       "      <td>2017</td>\n",
       "    </tr>\n",
       "  </tbody>\n",
       "</table>\n",
       "<p>5 rows × 49 columns</p>\n",
       "</div>"
      ],
      "text/plain": [
       "        NRO_SOLICITUD  OBLIGACION     PAGARE  NOM_TIPOCLIENTE         REGION  \\\n",
       "182952      171000001   171000001  171000001  Microfinanciero  REGION CENTRO   \n",
       "182953      171000001   171000001  171000001  Microfinanciero  REGION CENTRO   \n",
       "182954      171000001   171000001  171000001  Microfinanciero  REGION CENTRO   \n",
       "182955      171000001   171000001  171000001  Microfinanciero  REGION CENTRO   \n",
       "182956      171000001   171000001  171000001  Microfinanciero  REGION CENTRO   \n",
       "\n",
       "       MUNICIPIO_CLIENTE UBICACIO_CLIENTE    MONTO FEC_SOLICITUD  FEC_APROBA  \\\n",
       "182952             YOPAL           URBANA  1000000    2017-01-17  2017-01-17   \n",
       "182953             YOPAL           URBANA  1000000    2017-01-17  2017-01-17   \n",
       "182954             YOPAL           URBANA  1000000    2017-01-17  2017-01-17   \n",
       "182955             YOPAL           URBANA  1000000    2017-01-17  2017-01-17   \n",
       "182956             YOPAL           URBANA  1000000    2017-01-17  2017-01-17   \n",
       "\n",
       "        ... MORA_STATUS  SUCURSAL  ESTRATO         DESTINACION TIPO_VIVIENDA  \\\n",
       "182952  ...         1.0     YOPAL      2.0  CAPITAL DE TRABAJO      Familiar   \n",
       "182953  ...         1.0     YOPAL      2.0  CAPITAL DE TRABAJO      Familiar   \n",
       "182954  ...         1.0     YOPAL      2.0  CAPITAL DE TRABAJO      Familiar   \n",
       "182955  ...         1.0     YOPAL      2.0  CAPITAL DE TRABAJO      Familiar   \n",
       "182956  ...         1.0     YOPAL      2.0  CAPITAL DE TRABAJO      Familiar   \n",
       "\n",
       "       CODEUDOR_REF DEUDOR  ACUMULADO  NIVEL_DE_ESTUDIOS_NEW  AÑO_APROBACION  \n",
       "182952            1      0          0                  Media            2017  \n",
       "182953            1      0          0                  Media            2017  \n",
       "182954            1      0          0                  Media            2017  \n",
       "182955            1      1          0                  Media            2017  \n",
       "182956            1      1          0                  Media            2017  \n",
       "\n",
       "[5 rows x 49 columns]"
      ]
     },
     "execution_count": 26,
     "metadata": {},
     "output_type": "execute_result"
    }
   ],
   "source": [
    "reload2.head()"
   ]
  },
  {
   "cell_type": "markdown",
   "metadata": {},
   "source": [
    "### Transformando municipios y departamentos"
   ]
  },
  {
   "cell_type": "code",
   "execution_count": 27,
   "metadata": {},
   "outputs": [],
   "source": [
    "df_md = pd.read_csv('J:/Universidad/DS4A 6/frontend_fundacion_amanecer/data/municipios_y_departamentos.csv', sep=\",\",encoding=\"utf-8\",low_memory=False,index_col=0)"
   ]
  },
  {
   "cell_type": "code",
   "execution_count": 29,
   "metadata": {},
   "outputs": [],
   "source": [
    "result_save3 = df_md.to_csv('Municipios_departamentos' + '.gzip', \\\n",
    "                                           index=True, \\\n",
    "                                           compression='gzip')"
   ]
  },
  {
   "cell_type": "code",
   "execution_count": 30,
   "metadata": {},
   "outputs": [],
   "source": [
    "reload3 = pd.read_csv('J:/Universidad/DS4A 6/frontend_fundacion_amanecer/notebooks/Municipios_departamentos.gzip',\n",
    " sep=\",\", encoding=\"utf-8\", low_memory=False, index_col=0, compression='gzip')"
   ]
  },
  {
   "cell_type": "code",
   "execution_count": 31,
   "metadata": {},
   "outputs": [
    {
     "name": "stdout",
     "output_type": "stream",
     "text": [
      "(275, 4)\n",
      "(275, 4)\n"
     ]
    }
   ],
   "source": [
    "print(reload3.shape)\n",
    "print(df_md.shape)"
   ]
  },
  {
   "cell_type": "markdown",
   "metadata": {},
   "source": [
    "### Transformando prueba_reglog"
   ]
  },
  {
   "cell_type": "code",
   "execution_count": 35,
   "metadata": {},
   "outputs": [],
   "source": [
    "df_reglog = pd.read_csv('J:/Universidad/DS4A 6/frontend_fundacion_amanecer/data/prueba_reglog.csv', sep=\",\",encoding=\"utf-8\",low_memory=False,index_col=0)\n",
    "df_reglog1 = df_reglog.sample(100).copy()"
   ]
  },
  {
   "cell_type": "code",
   "execution_count": 43,
   "metadata": {},
   "outputs": [],
   "source": [
    "result_save4 = df_reglog1.to_csv('Prueba_reglog' + '.gzip', \\\n",
    "                                           index=True, \\\n",
    "                                           compression='gzip')"
   ]
  },
  {
   "cell_type": "code",
   "execution_count": 38,
   "metadata": {},
   "outputs": [],
   "source": [
    "result_save5 = df_reglog1.to_csv('Prueba_reglog.csv',index=True)"
   ]
  },
  {
   "cell_type": "code",
   "execution_count": 46,
   "metadata": {},
   "outputs": [],
   "source": [
    "reload4 = pd.read_csv('J:/Universidad/DS4A 6/frontend_fundacion_amanecer/notebooks/Prueba_reglog.gzip',\n",
    " sep=\",\", encoding=\"utf-8\", low_memory=False, index_col=0, compression='gzip')\n",
    "\n",
    "reload5 = pd.read_csv('J:/Universidad/DS4A 6/frontend_fundacion_amanecer/notebooks/Prueba_reglog.csv',\n",
    " sep=\",\", encoding=\"utf-8\", low_memory=False, index_col=0)"
   ]
  },
  {
   "cell_type": "code",
   "execution_count": 47,
   "metadata": {},
   "outputs": [
    {
     "name": "stdout",
     "output_type": "stream",
     "text": [
      "(100, 31)\n",
      "(100, 31)\n",
      "(100, 31)\n"
     ]
    }
   ],
   "source": [
    "print(reload4.shape)\n",
    "print(reload5.shape)\n",
    "print(df_reglog1.shape)"
   ]
  }
 ],
 "metadata": {
  "kernelspec": {
   "display_name": "Python 3.9.0 64-bit",
   "language": "python",
   "name": "python3"
  },
  "language_info": {
   "codemirror_mode": {
    "name": "ipython",
    "version": 3
   },
   "file_extension": ".py",
   "mimetype": "text/x-python",
   "name": "python",
   "nbconvert_exporter": "python",
   "pygments_lexer": "ipython3",
   "version": "3.9.0"
  },
  "orig_nbformat": 4,
  "vscode": {
   "interpreter": {
    "hash": "81794d4967e6c3204c66dcd87b604927b115b27c00565d3d43f05ba2f3a2cb0d"
   }
  }
 },
 "nbformat": 4,
 "nbformat_minor": 2
}
