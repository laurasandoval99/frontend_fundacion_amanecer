{
 "cells": [
  {
   "cell_type": "code",
   "execution_count": 1,
   "metadata": {},
   "outputs": [],
   "source": [
    "import pandas as pd\n",
    "import numpy as np"
   ]
  },
  {
   "cell_type": "code",
   "execution_count": 31,
   "metadata": {},
   "outputs": [],
   "source": [
    "def show_data():\n",
    "  df2 = pd.read_csv('Cartera_Final_2.csv',low_memory=False)\n",
    "  df2.drop(['Unnamed: 0','Unnamed: 0.1'], axis=1, inplace = True)\n",
    "  df2.reset_index()\n",
    "  df2 = df2[['OBLIGACION','MUNICIPIO CLIENTE', 'MONTO', 'VALOR CUOTA', 'CUOTAS PACTADAS','CUOTAS PENDIENTES', 'CALIFICACION CIERRE', 'VENCIDA', 'DIAS VENCIDO','CAPITAL VEN','MORA', 'FEC ULT.PAGO','FEC PROXIMO PAGO', 'VENCIMIENTO FINAL', 'Fecha']] \n",
    "  return df2"
   ]
  },
  {
   "cell_type": "code",
   "execution_count": 34,
   "metadata": {},
   "outputs": [],
   "source": [
    "df2 = show_data()\n"
   ]
  },
  {
   "cell_type": "code",
   "execution_count": 37,
   "metadata": {},
   "outputs": [
    {
     "name": "stderr",
     "output_type": "stream",
     "text": [
      "/home/diego-aaa/anaconda3/envs/dash-course/lib/python3.7/site-packages/ipykernel_launcher.py:1: FutureWarning: Dropping invalid columns in DataFrameGroupBy.max is deprecated. In a future version, a TypeError will be raised. Before calling .max, select only columns which should be valid for the function.\n",
      "  \"\"\"Entry point for launching an IPython kernel.\n"
     ]
    },
    {
     "data": {
      "text/html": [
       "<div>\n",
       "<style scoped>\n",
       "    .dataframe tbody tr th:only-of-type {\n",
       "        vertical-align: middle;\n",
       "    }\n",
       "\n",
       "    .dataframe tbody tr th {\n",
       "        vertical-align: top;\n",
       "    }\n",
       "\n",
       "    .dataframe thead th {\n",
       "        text-align: right;\n",
       "    }\n",
       "</style>\n",
       "<table border=\"1\" class=\"dataframe\">\n",
       "  <thead>\n",
       "    <tr style=\"text-align: right;\">\n",
       "      <th></th>\n",
       "      <th>MUNICIPIO CLIENTE</th>\n",
       "      <th>MONTO</th>\n",
       "      <th>VALOR CUOTA</th>\n",
       "      <th>CUOTAS PACTADAS</th>\n",
       "      <th>CUOTAS PENDIENTES</th>\n",
       "      <th>CALIFICACION CIERRE</th>\n",
       "      <th>VENCIDA</th>\n",
       "      <th>DIAS VENCIDO</th>\n",
       "      <th>CAPITAL VEN</th>\n",
       "      <th>MORA</th>\n",
       "      <th>FEC PROXIMO PAGO</th>\n",
       "      <th>VENCIMIENTO FINAL</th>\n",
       "      <th>Fecha</th>\n",
       "    </tr>\n",
       "    <tr>\n",
       "      <th>OBLIGACION</th>\n",
       "      <th></th>\n",
       "      <th></th>\n",
       "      <th></th>\n",
       "      <th></th>\n",
       "      <th></th>\n",
       "      <th></th>\n",
       "      <th></th>\n",
       "      <th></th>\n",
       "      <th></th>\n",
       "      <th></th>\n",
       "      <th></th>\n",
       "      <th></th>\n",
       "      <th></th>\n",
       "    </tr>\n",
       "  </thead>\n",
       "  <tbody>\n",
       "    <tr>\n",
       "      <th>29179</th>\n",
       "      <td>YOPAL</td>\n",
       "      <td>24000000</td>\n",
       "      <td>1072733.0</td>\n",
       "      <td>1.0</td>\n",
       "      <td>1.0</td>\n",
       "      <td>E</td>\n",
       "      <td>1037679</td>\n",
       "      <td>779</td>\n",
       "      <td>1037679</td>\n",
       "      <td>847825</td>\n",
       "      <td>2015-01-12</td>\n",
       "      <td>2015-01-12</td>\n",
       "      <td>2018-01-01</td>\n",
       "    </tr>\n",
       "    <tr>\n",
       "      <th>30827</th>\n",
       "      <td>AGUAZUL</td>\n",
       "      <td>15000000</td>\n",
       "      <td>672708.0</td>\n",
       "      <td>12.0</td>\n",
       "      <td>12.0</td>\n",
       "      <td>E</td>\n",
       "      <td>6716353</td>\n",
       "      <td>869</td>\n",
       "      <td>6716353</td>\n",
       "      <td>5519792</td>\n",
       "      <td>2015-01-04</td>\n",
       "      <td>2016-01-03</td>\n",
       "      <td>2017-08-01</td>\n",
       "    </tr>\n",
       "    <tr>\n",
       "      <th>33006</th>\n",
       "      <td>HATO COROZAL</td>\n",
       "      <td>10000000</td>\n",
       "      <td>503092.0</td>\n",
       "      <td>6.0</td>\n",
       "      <td>6.0</td>\n",
       "      <td>E</td>\n",
       "      <td>2476048</td>\n",
       "      <td>749</td>\n",
       "      <td>2476048</td>\n",
       "      <td>1420986</td>\n",
       "      <td>2015-01-08</td>\n",
       "      <td>2015-01-12</td>\n",
       "      <td>2017-08-01</td>\n",
       "    </tr>\n",
       "    <tr>\n",
       "      <th>33313</th>\n",
       "      <td>YOPAL</td>\n",
       "      <td>5800000</td>\n",
       "      <td>974305.0</td>\n",
       "      <td>1.0</td>\n",
       "      <td>1.0</td>\n",
       "      <td>E</td>\n",
       "      <td>873989</td>\n",
       "      <td>798</td>\n",
       "      <td>873989</td>\n",
       "      <td>828082</td>\n",
       "      <td>2015-12-06</td>\n",
       "      <td>2015-12-06</td>\n",
       "      <td>2017-08-01</td>\n",
       "    </tr>\n",
       "    <tr>\n",
       "      <th>33767</th>\n",
       "      <td>YOPAL</td>\n",
       "      <td>22000000</td>\n",
       "      <td>983839.0</td>\n",
       "      <td>5.0</td>\n",
       "      <td>5.0</td>\n",
       "      <td>E</td>\n",
       "      <td>4454037</td>\n",
       "      <td>539</td>\n",
       "      <td>4454037</td>\n",
       "      <td>1962352</td>\n",
       "      <td>2016-01-03</td>\n",
       "      <td>2016-01-07</td>\n",
       "      <td>2017-08-01</td>\n",
       "    </tr>\n",
       "    <tr>\n",
       "      <th>...</th>\n",
       "      <td>...</td>\n",
       "      <td>...</td>\n",
       "      <td>...</td>\n",
       "      <td>...</td>\n",
       "      <td>...</td>\n",
       "      <td>...</td>\n",
       "      <td>...</td>\n",
       "      <td>...</td>\n",
       "      <td>...</td>\n",
       "      <td>...</td>\n",
       "      <td>...</td>\n",
       "      <td>...</td>\n",
       "      <td>...</td>\n",
       "    </tr>\n",
       "    <tr>\n",
       "      <th>2112000110</th>\n",
       "      <td>TAME</td>\n",
       "      <td>1000000</td>\n",
       "      <td>1002850.0</td>\n",
       "      <td>1.0</td>\n",
       "      <td>1.0</td>\n",
       "      <td>A</td>\n",
       "      <td>0</td>\n",
       "      <td>0</td>\n",
       "      <td>0</td>\n",
       "      <td>0</td>\n",
       "      <td>2021-03-12</td>\n",
       "      <td>2020-11-08</td>\n",
       "      <td>2021-08-01</td>\n",
       "    </tr>\n",
       "    <tr>\n",
       "      <th>2112000111</th>\n",
       "      <td>TAME</td>\n",
       "      <td>4000000</td>\n",
       "      <td>888018.0</td>\n",
       "      <td>6.0</td>\n",
       "      <td>6.0</td>\n",
       "      <td>A</td>\n",
       "      <td>0</td>\n",
       "      <td>0</td>\n",
       "      <td>0</td>\n",
       "      <td>0</td>\n",
       "      <td>2021-08-12</td>\n",
       "      <td>2023-08-26</td>\n",
       "      <td>2021-08-01</td>\n",
       "    </tr>\n",
       "    <tr>\n",
       "      <th>2112000112</th>\n",
       "      <td>TAME</td>\n",
       "      <td>2000000</td>\n",
       "      <td>161674.0</td>\n",
       "      <td>18.0</td>\n",
       "      <td>18.0</td>\n",
       "      <td>A</td>\n",
       "      <td>0</td>\n",
       "      <td>0</td>\n",
       "      <td>0</td>\n",
       "      <td>0</td>\n",
       "      <td>2021-07-10</td>\n",
       "      <td>2023-02-20</td>\n",
       "      <td>2021-08-01</td>\n",
       "    </tr>\n",
       "    <tr>\n",
       "      <th>2112000113</th>\n",
       "      <td>TAME</td>\n",
       "      <td>20000000</td>\n",
       "      <td>2886247.0</td>\n",
       "      <td>12.0</td>\n",
       "      <td>12.0</td>\n",
       "      <td>A</td>\n",
       "      <td>0</td>\n",
       "      <td>0</td>\n",
       "      <td>0</td>\n",
       "      <td>0</td>\n",
       "      <td>2021-12-20</td>\n",
       "      <td>2022-08-27</td>\n",
       "      <td>2021-08-01</td>\n",
       "    </tr>\n",
       "    <tr>\n",
       "      <th>2112000114</th>\n",
       "      <td>SIN UBICACION</td>\n",
       "      <td>5000000</td>\n",
       "      <td>926262.0</td>\n",
       "      <td>8.0</td>\n",
       "      <td>8.0</td>\n",
       "      <td>A</td>\n",
       "      <td>0</td>\n",
       "      <td>0</td>\n",
       "      <td>0</td>\n",
       "      <td>0</td>\n",
       "      <td>2021-07-12</td>\n",
       "      <td>2022-12-22</td>\n",
       "      <td>2021-08-01</td>\n",
       "    </tr>\n",
       "  </tbody>\n",
       "</table>\n",
       "<p>56731 rows × 13 columns</p>\n",
       "</div>"
      ],
      "text/plain": [
       "           MUNICIPIO CLIENTE     MONTO  VALOR CUOTA  CUOTAS PACTADAS  \\\n",
       "OBLIGACION                                                             \n",
       "29179                  YOPAL  24000000    1072733.0              1.0   \n",
       "30827                AGUAZUL  15000000     672708.0             12.0   \n",
       "33006           HATO COROZAL  10000000     503092.0              6.0   \n",
       "33313                  YOPAL   5800000     974305.0              1.0   \n",
       "33767                  YOPAL  22000000     983839.0              5.0   \n",
       "...                      ...       ...          ...              ...   \n",
       "2112000110              TAME   1000000    1002850.0              1.0   \n",
       "2112000111              TAME   4000000     888018.0              6.0   \n",
       "2112000112              TAME   2000000     161674.0             18.0   \n",
       "2112000113              TAME  20000000    2886247.0             12.0   \n",
       "2112000114     SIN UBICACION   5000000     926262.0              8.0   \n",
       "\n",
       "            CUOTAS PENDIENTES CALIFICACION CIERRE  VENCIDA  DIAS VENCIDO  \\\n",
       "OBLIGACION                                                                 \n",
       "29179                     1.0                   E  1037679           779   \n",
       "30827                    12.0                   E  6716353           869   \n",
       "33006                     6.0                   E  2476048           749   \n",
       "33313                     1.0                   E   873989           798   \n",
       "33767                     5.0                   E  4454037           539   \n",
       "...                       ...                 ...      ...           ...   \n",
       "2112000110                1.0                   A        0             0   \n",
       "2112000111                6.0                   A        0             0   \n",
       "2112000112               18.0                   A        0             0   \n",
       "2112000113               12.0                   A        0             0   \n",
       "2112000114                8.0                   A        0             0   \n",
       "\n",
       "            CAPITAL VEN     MORA FEC PROXIMO PAGO VENCIMIENTO FINAL  \\\n",
       "OBLIGACION                                                            \n",
       "29179           1037679   847825       2015-01-12        2015-01-12   \n",
       "30827           6716353  5519792       2015-01-04        2016-01-03   \n",
       "33006           2476048  1420986       2015-01-08        2015-01-12   \n",
       "33313            873989   828082       2015-12-06        2015-12-06   \n",
       "33767           4454037  1962352       2016-01-03        2016-01-07   \n",
       "...                 ...      ...              ...               ...   \n",
       "2112000110            0        0       2021-03-12        2020-11-08   \n",
       "2112000111            0        0       2021-08-12        2023-08-26   \n",
       "2112000112            0        0       2021-07-10        2023-02-20   \n",
       "2112000113            0        0       2021-12-20        2022-08-27   \n",
       "2112000114            0        0       2021-07-12        2022-12-22   \n",
       "\n",
       "                 Fecha  \n",
       "OBLIGACION              \n",
       "29179       2018-01-01  \n",
       "30827       2017-08-01  \n",
       "33006       2017-08-01  \n",
       "33313       2017-08-01  \n",
       "33767       2017-08-01  \n",
       "...                ...  \n",
       "2112000110  2021-08-01  \n",
       "2112000111  2021-08-01  \n",
       "2112000112  2021-08-01  \n",
       "2112000113  2021-08-01  \n",
       "2112000114  2021-08-01  \n",
       "\n",
       "[56731 rows x 13 columns]"
      ]
     },
     "execution_count": 37,
     "metadata": {},
     "output_type": "execute_result"
    }
   ],
   "source": [
    "df2.groupby(\"OBLIGACION\").max()"
   ]
  },
  {
   "cell_type": "code",
   "execution_count": 2,
   "metadata": {},
   "outputs": [],
   "source": [
    "def load_data():\n",
    "   df = pd.read_csv('Cartera_Final_2.csv',low_memory=False, nrows=10000)\n",
    "   df.drop(['Unnamed: 0','Unnamed: 0.1'], axis=1, inplace = True)\n",
    "   df.reset_index()\n",
    "   return df\n",
    "    "
   ]
  },
  {
   "cell_type": "code",
   "execution_count": 3,
   "metadata": {},
   "outputs": [],
   "source": [
    "df = load_data()"
   ]
  },
  {
   "cell_type": "code",
   "execution_count": 4,
   "metadata": {},
   "outputs": [
    {
     "data": {
      "text/plain": [
       "Index(['NRO SOLICITUD', 'OBLIGACION', 'PAGARE', 'NOM TIPOCLIENTE', 'REGION',\n",
       "       'MUNICIPIO CLIENTE', 'UBICACIO CLIENTE', 'MONTO', 'FEC SOLICITUD',\n",
       "       'FEC APROBA', 'FEC DESEMBOLSO', 'VALOR CUOTA', 'CUOTAS PACTADAS',\n",
       "       'CUOTAS PENDIENTES', 'PERIODICIDAD', 'CALIFICACION CIERRE', 'LINEA',\n",
       "       'COD MODALIDAD', 'SALDO OBLIGACION', 'VENCIDA', 'DIAS VENCIDO',\n",
       "       'CAPITAL VEN', 'INTERES VEN', 'MORA', 'COMISION', 'FEC ULT.PAGO',\n",
       "       'FEC PROXIMO PAGO', 'VENCIMIENTO FINAL', 'PORCENTAJE PAGO',\n",
       "       'TIPO CREDITO', 'Fecha', 'TASA_NOM_ANUAL', 'TASA_PERIODICA', 'ID', 'PP',\n",
       "       'CP', 'GENERO', 'EDAD', 'NIVEL DE ESTUDIOS'],\n",
       "      dtype='object')"
      ]
     },
     "execution_count": 4,
     "metadata": {},
     "output_type": "execute_result"
    }
   ],
   "source": [
    "df.columns"
   ]
  },
  {
   "cell_type": "code",
   "execution_count": 5,
   "metadata": {},
   "outputs": [],
   "source": [
    "def cap_vencido():\n",
    "    cap_ven = df['CAPITAL VEN'].sum()\n",
    "    return cap_ven"
   ]
  },
  {
   "cell_type": "code",
   "execution_count": 6,
   "metadata": {},
   "outputs": [],
   "source": [
    "def cap_pendiente():\n",
    "    cap_pen = df['CP'].sum()\n",
    "    return cap_pen"
   ]
  },
  {
   "cell_type": "code",
   "execution_count": 7,
   "metadata": {},
   "outputs": [
    {
     "name": "stdout",
     "output_type": "stream",
     "text": [
      "17220088258\n",
      "1032708828\n"
     ]
    }
   ],
   "source": [
    "print(cap_vencido())\n",
    "print(cap_pendiente())"
   ]
  },
  {
   "cell_type": "code",
   "execution_count": 8,
   "metadata": {},
   "outputs": [
    {
     "data": {
      "text/plain": [
       "1592"
      ]
     },
     "execution_count": 8,
     "metadata": {},
     "output_type": "execute_result"
    }
   ],
   "source": [
    "pen_pago = list(df['PP'].value_counts())[1]\n",
    "pen_pago"
   ]
  },
  {
   "cell_type": "code",
   "execution_count": 9,
   "metadata": {},
   "outputs": [],
   "source": [
    "def deudores_pen():\n",
    "\n",
    "    total = df['PP'].count()\n",
    "    por_deudores = (pen_pago/total)*100\n",
    "    return round(por_deudores,2)\n"
   ]
  },
  {
   "cell_type": "code",
   "execution_count": 10,
   "metadata": {},
   "outputs": [
    {
     "data": {
      "text/plain": [
       "(10000, 39)"
      ]
     },
     "execution_count": 10,
     "metadata": {},
     "output_type": "execute_result"
    }
   ],
   "source": [
    "df.shape"
   ]
  },
  {
   "cell_type": "code",
   "execution_count": 11,
   "metadata": {},
   "outputs": [
    {
     "data": {
      "text/plain": [
       "False    9534\n",
       "True      466\n",
       "Name: FEC ULT.PAGO, dtype: int64"
      ]
     },
     "execution_count": 11,
     "metadata": {},
     "output_type": "execute_result"
    }
   ],
   "source": [
    "df['FEC ULT.PAGO'].isna().value_counts()"
   ]
  },
  {
   "cell_type": "markdown",
   "metadata": {},
   "source": [
    "<sub>hola</sub>"
   ]
  },
  {
   "cell_type": "markdown",
   "metadata": {},
   "source": []
  },
  {
   "cell_type": "markdown",
   "metadata": {},
   "source": []
  }
 ],
 "metadata": {
  "kernelspec": {
   "display_name": "Python ('dash-course')",
   "language": "python",
   "name": "python3"
  },
  "language_info": {
   "codemirror_mode": {
    "name": "ipython",
    "version": 3
   },
   "file_extension": ".py",
   "mimetype": "text/x-python",
   "name": "python",
   "nbconvert_exporter": "python",
   "pygments_lexer": "ipython3",
   "version": ""
  },
  "orig_nbformat": 4,
  "vscode": {
   "interpreter": {
    "hash": "25a19fbe0a9132dfb9279d48d161753c6352f8f9478c2e74383d340069b907c3"
   }
  }
 },
 "nbformat": 4,
 "nbformat_minor": 2
}
