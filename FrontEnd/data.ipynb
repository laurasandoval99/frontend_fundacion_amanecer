{
 "cells": [
  {
   "cell_type": "code",
   "execution_count": 1,
   "metadata": {},
   "outputs": [],
   "source": [
    "import pandas as pd\n",
    "import numpy as np"
   ]
  },
  {
   "cell_type": "code",
   "execution_count": 2,
   "metadata": {},
   "outputs": [],
   "source": [
    "def load_data():\n",
    "   df = pd.read_csv('Cartera_Final_2.csv',low_memory=False, nrows=10000)\n",
    "   df.drop(['Unnamed: 0','Unnamed: 0.1'], axis=1, inplace = True)\n",
    "   df.reset_index()\n",
    "   return df\n",
    "    "
   ]
  },
  {
   "cell_type": "code",
   "execution_count": 3,
   "metadata": {},
   "outputs": [],
   "source": [
    "df = load_data()"
   ]
  },
  {
   "cell_type": "code",
   "execution_count": 4,
   "metadata": {},
   "outputs": [
    {
     "data": {
      "text/plain": [
       "Index(['NRO SOLICITUD', 'OBLIGACION', 'PAGARE', 'NOM TIPOCLIENTE', 'REGION',\n",
       "       'MUNICIPIO CLIENTE', 'UBICACIO CLIENTE', 'MONTO', 'FEC SOLICITUD',\n",
       "       'FEC APROBA', 'FEC DESEMBOLSO', 'VALOR CUOTA', 'CUOTAS PACTADAS',\n",
       "       'CUOTAS PENDIENTES', 'PERIODICIDAD', 'CALIFICACION CIERRE', 'LINEA',\n",
       "       'COD MODALIDAD', 'SALDO OBLIGACION', 'VENCIDA', 'DIAS VENCIDO',\n",
       "       'CAPITAL VEN', 'INTERES VEN', 'MORA', 'COMISION', 'FEC ULT.PAGO',\n",
       "       'FEC PROXIMO PAGO', 'VENCIMIENTO FINAL', 'PORCENTAJE PAGO',\n",
       "       'TIPO CREDITO', 'Fecha', 'TASA_NOM_ANUAL', 'TASA_PERIODICA', 'ID', 'PP',\n",
       "       'CP', 'GENERO', 'EDAD', 'NIVEL DE ESTUDIOS'],\n",
       "      dtype='object')"
      ]
     },
     "execution_count": 4,
     "metadata": {},
     "output_type": "execute_result"
    }
   ],
   "source": [
    "df.columns"
   ]
  },
  {
   "cell_type": "code",
   "execution_count": 5,
   "metadata": {},
   "outputs": [],
   "source": [
    "def cap_vencido():\n",
    "    cap_ven = df['CAPITAL VEN'].sum()\n",
    "    return cap_ven"
   ]
  },
  {
   "cell_type": "code",
   "execution_count": 6,
   "metadata": {},
   "outputs": [],
   "source": [
    "def cap_pendiente():\n",
    "    cap_pen = df['CP'].sum()\n",
    "    return cap_pen"
   ]
  },
  {
   "cell_type": "code",
   "execution_count": 7,
   "metadata": {},
   "outputs": [
    {
     "name": "stdout",
     "output_type": "stream",
     "text": [
      "17220088258\n",
      "1032708828\n"
     ]
    }
   ],
   "source": [
    "print(cap_vencido())\n",
    "print(cap_pendiente())"
   ]
  },
  {
   "cell_type": "code",
   "execution_count": 8,
   "metadata": {},
   "outputs": [
    {
     "data": {
      "text/plain": [
       "1592"
      ]
     },
     "execution_count": 8,
     "metadata": {},
     "output_type": "execute_result"
    }
   ],
   "source": [
    "pen_pago = list(df['PP'].value_counts())[1]\n",
    "pen_pago"
   ]
  },
  {
   "cell_type": "code",
   "execution_count": 9,
   "metadata": {},
   "outputs": [],
   "source": [
    "def deudores_pen():\n",
    "\n",
    "    total = df['PP'].count()\n",
    "    por_deudores = (pen_pago/total)*100\n",
    "    return round(por_deudores,2)\n"
   ]
  },
  {
   "cell_type": "code",
   "execution_count": 12,
   "metadata": {},
   "outputs": [
    {
     "data": {
      "text/plain": [
       "(10000, 39)"
      ]
     },
     "execution_count": 12,
     "metadata": {},
     "output_type": "execute_result"
    }
   ],
   "source": [
    "df.shape"
   ]
  },
  {
   "cell_type": "code",
   "execution_count": 10,
   "metadata": {},
   "outputs": [
    {
     "data": {
      "text/plain": [
       "False    9534\n",
       "True      466\n",
       "Name: FEC ULT.PAGO, dtype: int64"
      ]
     },
     "execution_count": 10,
     "metadata": {},
     "output_type": "execute_result"
    }
   ],
   "source": [
    "df['FEC ULT.PAGO'].isna().value_counts()"
   ]
  },
  {
   "cell_type": "markdown",
   "metadata": {},
   "source": [
    "<sub>hola</sub>"
   ]
  }
 ],
 "metadata": {
  "kernelspec": {
   "display_name": "Python 3.9.0 64-bit",
   "language": "python",
   "name": "python3"
  },
  "language_info": {
   "codemirror_mode": {
    "name": "ipython",
    "version": 3
   },
   "file_extension": ".py",
   "mimetype": "text/x-python",
   "name": "python",
   "nbconvert_exporter": "python",
   "pygments_lexer": "ipython3",
   "version": "3.9.0"
  },
  "orig_nbformat": 4,
  "vscode": {
   "interpreter": {
    "hash": "81794d4967e6c3204c66dcd87b604927b115b27c00565d3d43f05ba2f3a2cb0d"
   }
  }
 },
 "nbformat": 4,
 "nbformat_minor": 2
}
